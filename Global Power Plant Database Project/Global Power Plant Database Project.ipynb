{
 "cells": [
  {
   "cell_type": "code",
   "execution_count": 1,
   "id": "f5e20650",
   "metadata": {},
   "outputs": [],
   "source": [
    "import pandas as pd\n",
    "import numpy as np\n",
    "import matplotlib.pyplot as plt\n",
    "import seaborn as sns\n",
    "from sklearn.preprocessing import StandardScaler\n",
    "from pandas.plotting import scatter_matrix\n",
    "from sklearn.model_selection import cross_val_score\n",
    "from pandas.plotting import scatter_matrix\n",
    "from sklearn.preprocessing import LabelEncoder\n",
    "from sklearn.metrics import plot_roc_curve, auc\n",
    "\n",
    "from sklearn.model_selection import train_test_split\n",
    "from sklearn.linear_model import LinearRegression\n",
    "from sklearn.tree import DecisionTreeRegressor\n",
    "from sklearn.ensemble import RandomForestRegressor\n",
    "from sklearn.neighbors import KNeighborsRegressor\n",
    "from sklearn.svm import SVR\n",
    "from sklearn.model_selection import GridSearchCV\n",
    "from sklearn.metrics import r2_score\n",
    "r2=r2_score\n",
    "\n",
    "from sklearn.linear_model import LogisticRegression\n",
    "from sklearn.ensemble import RandomForestClassifier\n",
    "from sklearn.svm import SVC\n",
    "from sklearn.tree import DecisionTreeClassifier\n",
    "from sklearn.neighbors import KNeighborsClassifier\n",
    "from sklearn.metrics import plot_roc_curve, auc\n",
    "from sklearn.metrics import confusion_matrix , accuracy_score ,classification_report\n",
    "\n",
    "import warnings\n",
    "warnings.filterwarnings('ignore')"
   ]
  },
  {
   "cell_type": "code",
   "execution_count": 2,
   "id": "c7622cb8",
   "metadata": {},
   "outputs": [],
   "source": [
    "df=pd.read_csv('https://raw.githubusercontent.com/wri/global-power-plant-database/master/source_databases_csv/database_IND.csv')"
   ]
  },
  {
   "cell_type": "code",
   "execution_count": 3,
   "id": "7922dea8",
   "metadata": {},
   "outputs": [
    {
     "data": {
      "text/html": [
       "<div>\n",
       "<style scoped>\n",
       "    .dataframe tbody tr th:only-of-type {\n",
       "        vertical-align: middle;\n",
       "    }\n",
       "\n",
       "    .dataframe tbody tr th {\n",
       "        vertical-align: top;\n",
       "    }\n",
       "\n",
       "    .dataframe thead th {\n",
       "        text-align: right;\n",
       "    }\n",
       "</style>\n",
       "<table border=\"1\" class=\"dataframe\">\n",
       "  <thead>\n",
       "    <tr style=\"text-align: right;\">\n",
       "      <th></th>\n",
       "      <th>country</th>\n",
       "      <th>country_long</th>\n",
       "      <th>name</th>\n",
       "      <th>gppd_idnr</th>\n",
       "      <th>capacity_mw</th>\n",
       "      <th>latitude</th>\n",
       "      <th>longitude</th>\n",
       "      <th>primary_fuel</th>\n",
       "      <th>other_fuel1</th>\n",
       "      <th>other_fuel2</th>\n",
       "      <th>...</th>\n",
       "      <th>year_of_capacity_data</th>\n",
       "      <th>generation_gwh_2013</th>\n",
       "      <th>generation_gwh_2014</th>\n",
       "      <th>generation_gwh_2015</th>\n",
       "      <th>generation_gwh_2016</th>\n",
       "      <th>generation_gwh_2017</th>\n",
       "      <th>generation_gwh_2018</th>\n",
       "      <th>generation_gwh_2019</th>\n",
       "      <th>generation_data_source</th>\n",
       "      <th>estimated_generation_gwh</th>\n",
       "    </tr>\n",
       "  </thead>\n",
       "  <tbody>\n",
       "    <tr>\n",
       "      <th>0</th>\n",
       "      <td>IND</td>\n",
       "      <td>India</td>\n",
       "      <td>ACME Solar Tower</td>\n",
       "      <td>WRI1020239</td>\n",
       "      <td>2.5</td>\n",
       "      <td>28.1839</td>\n",
       "      <td>73.2407</td>\n",
       "      <td>Solar</td>\n",
       "      <td>NaN</td>\n",
       "      <td>NaN</td>\n",
       "      <td>...</td>\n",
       "      <td>NaN</td>\n",
       "      <td>NaN</td>\n",
       "      <td>NaN</td>\n",
       "      <td>NaN</td>\n",
       "      <td>NaN</td>\n",
       "      <td>NaN</td>\n",
       "      <td>NaN</td>\n",
       "      <td>NaN</td>\n",
       "      <td>NaN</td>\n",
       "      <td>NaN</td>\n",
       "    </tr>\n",
       "    <tr>\n",
       "      <th>1</th>\n",
       "      <td>IND</td>\n",
       "      <td>India</td>\n",
       "      <td>ADITYA CEMENT WORKS</td>\n",
       "      <td>WRI1019881</td>\n",
       "      <td>98.0</td>\n",
       "      <td>24.7663</td>\n",
       "      <td>74.6090</td>\n",
       "      <td>Coal</td>\n",
       "      <td>NaN</td>\n",
       "      <td>NaN</td>\n",
       "      <td>...</td>\n",
       "      <td>NaN</td>\n",
       "      <td>NaN</td>\n",
       "      <td>NaN</td>\n",
       "      <td>NaN</td>\n",
       "      <td>NaN</td>\n",
       "      <td>NaN</td>\n",
       "      <td>NaN</td>\n",
       "      <td>NaN</td>\n",
       "      <td>NaN</td>\n",
       "      <td>NaN</td>\n",
       "    </tr>\n",
       "    <tr>\n",
       "      <th>2</th>\n",
       "      <td>IND</td>\n",
       "      <td>India</td>\n",
       "      <td>AES Saurashtra Windfarms</td>\n",
       "      <td>WRI1026669</td>\n",
       "      <td>39.2</td>\n",
       "      <td>21.9038</td>\n",
       "      <td>69.3732</td>\n",
       "      <td>Wind</td>\n",
       "      <td>NaN</td>\n",
       "      <td>NaN</td>\n",
       "      <td>...</td>\n",
       "      <td>NaN</td>\n",
       "      <td>NaN</td>\n",
       "      <td>NaN</td>\n",
       "      <td>NaN</td>\n",
       "      <td>NaN</td>\n",
       "      <td>NaN</td>\n",
       "      <td>NaN</td>\n",
       "      <td>NaN</td>\n",
       "      <td>NaN</td>\n",
       "      <td>NaN</td>\n",
       "    </tr>\n",
       "    <tr>\n",
       "      <th>3</th>\n",
       "      <td>IND</td>\n",
       "      <td>India</td>\n",
       "      <td>AGARTALA GT</td>\n",
       "      <td>IND0000001</td>\n",
       "      <td>135.0</td>\n",
       "      <td>23.8712</td>\n",
       "      <td>91.3602</td>\n",
       "      <td>Gas</td>\n",
       "      <td>NaN</td>\n",
       "      <td>NaN</td>\n",
       "      <td>...</td>\n",
       "      <td>2019.0</td>\n",
       "      <td>NaN</td>\n",
       "      <td>617.789264</td>\n",
       "      <td>843.747</td>\n",
       "      <td>886.004428</td>\n",
       "      <td>663.774500</td>\n",
       "      <td>626.239128</td>\n",
       "      <td>NaN</td>\n",
       "      <td>Central Electricity Authority</td>\n",
       "      <td>NaN</td>\n",
       "    </tr>\n",
       "    <tr>\n",
       "      <th>4</th>\n",
       "      <td>IND</td>\n",
       "      <td>India</td>\n",
       "      <td>AKALTARA TPP</td>\n",
       "      <td>IND0000002</td>\n",
       "      <td>1800.0</td>\n",
       "      <td>21.9603</td>\n",
       "      <td>82.4091</td>\n",
       "      <td>Coal</td>\n",
       "      <td>Oil</td>\n",
       "      <td>NaN</td>\n",
       "      <td>...</td>\n",
       "      <td>2019.0</td>\n",
       "      <td>NaN</td>\n",
       "      <td>3035.550000</td>\n",
       "      <td>5916.370</td>\n",
       "      <td>6243.000000</td>\n",
       "      <td>5385.579736</td>\n",
       "      <td>7279.000000</td>\n",
       "      <td>NaN</td>\n",
       "      <td>Central Electricity Authority</td>\n",
       "      <td>NaN</td>\n",
       "    </tr>\n",
       "  </tbody>\n",
       "</table>\n",
       "<p>5 rows × 27 columns</p>\n",
       "</div>"
      ],
      "text/plain": [
       "  country country_long                      name   gppd_idnr  capacity_mw  \\\n",
       "0     IND        India          ACME Solar Tower  WRI1020239          2.5   \n",
       "1     IND        India       ADITYA CEMENT WORKS  WRI1019881         98.0   \n",
       "2     IND        India  AES Saurashtra Windfarms  WRI1026669         39.2   \n",
       "3     IND        India               AGARTALA GT  IND0000001        135.0   \n",
       "4     IND        India              AKALTARA TPP  IND0000002       1800.0   \n",
       "\n",
       "   latitude  longitude primary_fuel other_fuel1 other_fuel2  ...  \\\n",
       "0   28.1839    73.2407        Solar         NaN         NaN  ...   \n",
       "1   24.7663    74.6090         Coal         NaN         NaN  ...   \n",
       "2   21.9038    69.3732         Wind         NaN         NaN  ...   \n",
       "3   23.8712    91.3602          Gas         NaN         NaN  ...   \n",
       "4   21.9603    82.4091         Coal         Oil         NaN  ...   \n",
       "\n",
       "   year_of_capacity_data  generation_gwh_2013 generation_gwh_2014  \\\n",
       "0                    NaN                  NaN                 NaN   \n",
       "1                    NaN                  NaN                 NaN   \n",
       "2                    NaN                  NaN                 NaN   \n",
       "3                 2019.0                  NaN          617.789264   \n",
       "4                 2019.0                  NaN         3035.550000   \n",
       "\n",
       "  generation_gwh_2015 generation_gwh_2016 generation_gwh_2017  \\\n",
       "0                 NaN                 NaN                 NaN   \n",
       "1                 NaN                 NaN                 NaN   \n",
       "2                 NaN                 NaN                 NaN   \n",
       "3             843.747          886.004428          663.774500   \n",
       "4            5916.370         6243.000000         5385.579736   \n",
       "\n",
       "   generation_gwh_2018  generation_gwh_2019         generation_data_source  \\\n",
       "0                  NaN                  NaN                            NaN   \n",
       "1                  NaN                  NaN                            NaN   \n",
       "2                  NaN                  NaN                            NaN   \n",
       "3           626.239128                  NaN  Central Electricity Authority   \n",
       "4          7279.000000                  NaN  Central Electricity Authority   \n",
       "\n",
       "   estimated_generation_gwh  \n",
       "0                       NaN  \n",
       "1                       NaN  \n",
       "2                       NaN  \n",
       "3                       NaN  \n",
       "4                       NaN  \n",
       "\n",
       "[5 rows x 27 columns]"
      ]
     },
     "execution_count": 3,
     "metadata": {},
     "output_type": "execute_result"
    }
   ],
   "source": [
    "df.head()"
   ]
  },
  {
   "cell_type": "code",
   "execution_count": 4,
   "id": "9c925952",
   "metadata": {},
   "outputs": [
    {
     "data": {
      "text/plain": [
       "(907, 27)"
      ]
     },
     "execution_count": 4,
     "metadata": {},
     "output_type": "execute_result"
    }
   ],
   "source": [
    "df.shape"
   ]
  },
  {
   "cell_type": "code",
   "execution_count": 5,
   "id": "8bd2a0dc",
   "metadata": {},
   "outputs": [
    {
     "data": {
      "text/plain": [
       "country                       0\n",
       "country_long                  0\n",
       "name                          0\n",
       "gppd_idnr                     0\n",
       "capacity_mw                   0\n",
       "latitude                     46\n",
       "longitude                    46\n",
       "primary_fuel                  0\n",
       "other_fuel1                 709\n",
       "other_fuel2                 906\n",
       "other_fuel3                 907\n",
       "commissioning_year          380\n",
       "owner                       565\n",
       "source                        0\n",
       "url                           0\n",
       "geolocation_source           19\n",
       "wepp_id                     907\n",
       "year_of_capacity_data       388\n",
       "generation_gwh_2013         907\n",
       "generation_gwh_2014         509\n",
       "generation_gwh_2015         485\n",
       "generation_gwh_2016         473\n",
       "generation_gwh_2017         467\n",
       "generation_gwh_2018         459\n",
       "generation_gwh_2019         907\n",
       "generation_data_source      458\n",
       "estimated_generation_gwh    907\n",
       "dtype: int64"
      ]
     },
     "execution_count": 5,
     "metadata": {},
     "output_type": "execute_result"
    }
   ],
   "source": [
    "df.isnull().sum()"
   ]
  },
  {
   "cell_type": "markdown",
   "id": "9c283ca7",
   "metadata": {},
   "source": [
    "Total 907 rows are there and for some columns we observe all values are none. We will remove that columns along with irrelevant columns"
   ]
  },
  {
   "cell_type": "code",
   "execution_count": 6,
   "id": "b1475a75",
   "metadata": {},
   "outputs": [],
   "source": [
    "df = df.drop(columns = ['estimated_generation_gwh','generation_gwh_2019','generation_gwh_2013','wepp_id','other_fuel3','other_fuel2','other_fuel1','owner','commissioning_year','url'])"
   ]
  },
  {
   "cell_type": "code",
   "execution_count": 7,
   "id": "d990f415",
   "metadata": {},
   "outputs": [
    {
     "data": {
      "text/html": [
       "<div>\n",
       "<style scoped>\n",
       "    .dataframe tbody tr th:only-of-type {\n",
       "        vertical-align: middle;\n",
       "    }\n",
       "\n",
       "    .dataframe tbody tr th {\n",
       "        vertical-align: top;\n",
       "    }\n",
       "\n",
       "    .dataframe thead th {\n",
       "        text-align: right;\n",
       "    }\n",
       "</style>\n",
       "<table border=\"1\" class=\"dataframe\">\n",
       "  <thead>\n",
       "    <tr style=\"text-align: right;\">\n",
       "      <th></th>\n",
       "      <th>country</th>\n",
       "      <th>country_long</th>\n",
       "      <th>name</th>\n",
       "      <th>gppd_idnr</th>\n",
       "      <th>capacity_mw</th>\n",
       "      <th>latitude</th>\n",
       "      <th>longitude</th>\n",
       "      <th>primary_fuel</th>\n",
       "      <th>source</th>\n",
       "      <th>geolocation_source</th>\n",
       "      <th>year_of_capacity_data</th>\n",
       "      <th>generation_gwh_2014</th>\n",
       "      <th>generation_gwh_2015</th>\n",
       "      <th>generation_gwh_2016</th>\n",
       "      <th>generation_gwh_2017</th>\n",
       "      <th>generation_gwh_2018</th>\n",
       "      <th>generation_data_source</th>\n",
       "    </tr>\n",
       "  </thead>\n",
       "  <tbody>\n",
       "    <tr>\n",
       "      <th>0</th>\n",
       "      <td>IND</td>\n",
       "      <td>India</td>\n",
       "      <td>ACME Solar Tower</td>\n",
       "      <td>WRI1020239</td>\n",
       "      <td>2.5</td>\n",
       "      <td>28.1839</td>\n",
       "      <td>73.2407</td>\n",
       "      <td>Solar</td>\n",
       "      <td>National Renewable Energy Laboratory</td>\n",
       "      <td>National Renewable Energy Laboratory</td>\n",
       "      <td>NaN</td>\n",
       "      <td>NaN</td>\n",
       "      <td>NaN</td>\n",
       "      <td>NaN</td>\n",
       "      <td>NaN</td>\n",
       "      <td>NaN</td>\n",
       "      <td>NaN</td>\n",
       "    </tr>\n",
       "    <tr>\n",
       "      <th>1</th>\n",
       "      <td>IND</td>\n",
       "      <td>India</td>\n",
       "      <td>ADITYA CEMENT WORKS</td>\n",
       "      <td>WRI1019881</td>\n",
       "      <td>98.0</td>\n",
       "      <td>24.7663</td>\n",
       "      <td>74.6090</td>\n",
       "      <td>Coal</td>\n",
       "      <td>Ultratech Cement ltd</td>\n",
       "      <td>WRI</td>\n",
       "      <td>NaN</td>\n",
       "      <td>NaN</td>\n",
       "      <td>NaN</td>\n",
       "      <td>NaN</td>\n",
       "      <td>NaN</td>\n",
       "      <td>NaN</td>\n",
       "      <td>NaN</td>\n",
       "    </tr>\n",
       "    <tr>\n",
       "      <th>2</th>\n",
       "      <td>IND</td>\n",
       "      <td>India</td>\n",
       "      <td>AES Saurashtra Windfarms</td>\n",
       "      <td>WRI1026669</td>\n",
       "      <td>39.2</td>\n",
       "      <td>21.9038</td>\n",
       "      <td>69.3732</td>\n",
       "      <td>Wind</td>\n",
       "      <td>CDM</td>\n",
       "      <td>WRI</td>\n",
       "      <td>NaN</td>\n",
       "      <td>NaN</td>\n",
       "      <td>NaN</td>\n",
       "      <td>NaN</td>\n",
       "      <td>NaN</td>\n",
       "      <td>NaN</td>\n",
       "      <td>NaN</td>\n",
       "    </tr>\n",
       "    <tr>\n",
       "      <th>3</th>\n",
       "      <td>IND</td>\n",
       "      <td>India</td>\n",
       "      <td>AGARTALA GT</td>\n",
       "      <td>IND0000001</td>\n",
       "      <td>135.0</td>\n",
       "      <td>23.8712</td>\n",
       "      <td>91.3602</td>\n",
       "      <td>Gas</td>\n",
       "      <td>Central Electricity Authority</td>\n",
       "      <td>WRI</td>\n",
       "      <td>2019.0</td>\n",
       "      <td>617.789264</td>\n",
       "      <td>843.747</td>\n",
       "      <td>886.004428</td>\n",
       "      <td>663.774500</td>\n",
       "      <td>626.239128</td>\n",
       "      <td>Central Electricity Authority</td>\n",
       "    </tr>\n",
       "    <tr>\n",
       "      <th>4</th>\n",
       "      <td>IND</td>\n",
       "      <td>India</td>\n",
       "      <td>AKALTARA TPP</td>\n",
       "      <td>IND0000002</td>\n",
       "      <td>1800.0</td>\n",
       "      <td>21.9603</td>\n",
       "      <td>82.4091</td>\n",
       "      <td>Coal</td>\n",
       "      <td>Central Electricity Authority</td>\n",
       "      <td>WRI</td>\n",
       "      <td>2019.0</td>\n",
       "      <td>3035.550000</td>\n",
       "      <td>5916.370</td>\n",
       "      <td>6243.000000</td>\n",
       "      <td>5385.579736</td>\n",
       "      <td>7279.000000</td>\n",
       "      <td>Central Electricity Authority</td>\n",
       "    </tr>\n",
       "  </tbody>\n",
       "</table>\n",
       "</div>"
      ],
      "text/plain": [
       "  country country_long                      name   gppd_idnr  capacity_mw  \\\n",
       "0     IND        India          ACME Solar Tower  WRI1020239          2.5   \n",
       "1     IND        India       ADITYA CEMENT WORKS  WRI1019881         98.0   \n",
       "2     IND        India  AES Saurashtra Windfarms  WRI1026669         39.2   \n",
       "3     IND        India               AGARTALA GT  IND0000001        135.0   \n",
       "4     IND        India              AKALTARA TPP  IND0000002       1800.0   \n",
       "\n",
       "   latitude  longitude primary_fuel                                source  \\\n",
       "0   28.1839    73.2407        Solar  National Renewable Energy Laboratory   \n",
       "1   24.7663    74.6090         Coal                  Ultratech Cement ltd   \n",
       "2   21.9038    69.3732         Wind                                   CDM   \n",
       "3   23.8712    91.3602          Gas         Central Electricity Authority   \n",
       "4   21.9603    82.4091         Coal         Central Electricity Authority   \n",
       "\n",
       "                     geolocation_source  year_of_capacity_data  \\\n",
       "0  National Renewable Energy Laboratory                    NaN   \n",
       "1                                   WRI                    NaN   \n",
       "2                                   WRI                    NaN   \n",
       "3                                   WRI                 2019.0   \n",
       "4                                   WRI                 2019.0   \n",
       "\n",
       "   generation_gwh_2014  generation_gwh_2015  generation_gwh_2016  \\\n",
       "0                  NaN                  NaN                  NaN   \n",
       "1                  NaN                  NaN                  NaN   \n",
       "2                  NaN                  NaN                  NaN   \n",
       "3           617.789264              843.747           886.004428   \n",
       "4          3035.550000             5916.370          6243.000000   \n",
       "\n",
       "   generation_gwh_2017  generation_gwh_2018         generation_data_source  \n",
       "0                  NaN                  NaN                            NaN  \n",
       "1                  NaN                  NaN                            NaN  \n",
       "2                  NaN                  NaN                            NaN  \n",
       "3           663.774500           626.239128  Central Electricity Authority  \n",
       "4          5385.579736          7279.000000  Central Electricity Authority  "
      ]
     },
     "execution_count": 7,
     "metadata": {},
     "output_type": "execute_result"
    }
   ],
   "source": [
    "df.head()"
   ]
  },
  {
   "cell_type": "code",
   "execution_count": 8,
   "id": "efe3ed7c",
   "metadata": {},
   "outputs": [
    {
     "data": {
      "text/plain": [
       "country                     0\n",
       "country_long                0\n",
       "name                        0\n",
       "gppd_idnr                   0\n",
       "capacity_mw                 0\n",
       "latitude                   46\n",
       "longitude                  46\n",
       "primary_fuel                0\n",
       "source                      0\n",
       "geolocation_source         19\n",
       "year_of_capacity_data     388\n",
       "generation_gwh_2014       509\n",
       "generation_gwh_2015       485\n",
       "generation_gwh_2016       473\n",
       "generation_gwh_2017       467\n",
       "generation_gwh_2018       459\n",
       "generation_data_source    458\n",
       "dtype: int64"
      ]
     },
     "execution_count": 8,
     "metadata": {},
     "output_type": "execute_result"
    }
   ],
   "source": [
    "df.isnull().sum()"
   ]
  },
  {
   "cell_type": "code",
   "execution_count": 9,
   "id": "9e70eb5f",
   "metadata": {},
   "outputs": [],
   "source": [
    "df = df.dropna(axis = 0)"
   ]
  },
  {
   "cell_type": "code",
   "execution_count": 10,
   "id": "f967f91b",
   "metadata": {},
   "outputs": [
    {
     "data": {
      "text/plain": [
       "country                   0\n",
       "country_long              0\n",
       "name                      0\n",
       "gppd_idnr                 0\n",
       "capacity_mw               0\n",
       "latitude                  0\n",
       "longitude                 0\n",
       "primary_fuel              0\n",
       "source                    0\n",
       "geolocation_source        0\n",
       "year_of_capacity_data     0\n",
       "generation_gwh_2014       0\n",
       "generation_gwh_2015       0\n",
       "generation_gwh_2016       0\n",
       "generation_gwh_2017       0\n",
       "generation_gwh_2018       0\n",
       "generation_data_source    0\n",
       "dtype: int64"
      ]
     },
     "execution_count": 10,
     "metadata": {},
     "output_type": "execute_result"
    }
   ],
   "source": [
    "df.isnull().sum()"
   ]
  },
  {
   "cell_type": "code",
   "execution_count": 11,
   "id": "a3d43bd4",
   "metadata": {},
   "outputs": [
    {
     "data": {
      "text/html": [
       "<div>\n",
       "<style scoped>\n",
       "    .dataframe tbody tr th:only-of-type {\n",
       "        vertical-align: middle;\n",
       "    }\n",
       "\n",
       "    .dataframe tbody tr th {\n",
       "        vertical-align: top;\n",
       "    }\n",
       "\n",
       "    .dataframe thead th {\n",
       "        text-align: right;\n",
       "    }\n",
       "</style>\n",
       "<table border=\"1\" class=\"dataframe\">\n",
       "  <thead>\n",
       "    <tr style=\"text-align: right;\">\n",
       "      <th></th>\n",
       "      <th>country</th>\n",
       "      <th>country_long</th>\n",
       "      <th>name</th>\n",
       "      <th>gppd_idnr</th>\n",
       "      <th>capacity_mw</th>\n",
       "      <th>latitude</th>\n",
       "      <th>longitude</th>\n",
       "      <th>primary_fuel</th>\n",
       "      <th>source</th>\n",
       "      <th>geolocation_source</th>\n",
       "      <th>year_of_capacity_data</th>\n",
       "      <th>generation_gwh_2014</th>\n",
       "      <th>generation_gwh_2015</th>\n",
       "      <th>generation_gwh_2016</th>\n",
       "      <th>generation_gwh_2017</th>\n",
       "      <th>generation_gwh_2018</th>\n",
       "      <th>generation_data_source</th>\n",
       "    </tr>\n",
       "  </thead>\n",
       "  <tbody>\n",
       "    <tr>\n",
       "      <th>3</th>\n",
       "      <td>IND</td>\n",
       "      <td>India</td>\n",
       "      <td>AGARTALA GT</td>\n",
       "      <td>IND0000001</td>\n",
       "      <td>135.0</td>\n",
       "      <td>23.8712</td>\n",
       "      <td>91.3602</td>\n",
       "      <td>Gas</td>\n",
       "      <td>Central Electricity Authority</td>\n",
       "      <td>WRI</td>\n",
       "      <td>2019.0</td>\n",
       "      <td>617.789264</td>\n",
       "      <td>843.7470</td>\n",
       "      <td>886.004428</td>\n",
       "      <td>663.774500</td>\n",
       "      <td>626.239128</td>\n",
       "      <td>Central Electricity Authority</td>\n",
       "    </tr>\n",
       "    <tr>\n",
       "      <th>4</th>\n",
       "      <td>IND</td>\n",
       "      <td>India</td>\n",
       "      <td>AKALTARA TPP</td>\n",
       "      <td>IND0000002</td>\n",
       "      <td>1800.0</td>\n",
       "      <td>21.9603</td>\n",
       "      <td>82.4091</td>\n",
       "      <td>Coal</td>\n",
       "      <td>Central Electricity Authority</td>\n",
       "      <td>WRI</td>\n",
       "      <td>2019.0</td>\n",
       "      <td>3035.550000</td>\n",
       "      <td>5916.3700</td>\n",
       "      <td>6243.000000</td>\n",
       "      <td>5385.579736</td>\n",
       "      <td>7279.000000</td>\n",
       "      <td>Central Electricity Authority</td>\n",
       "    </tr>\n",
       "    <tr>\n",
       "      <th>5</th>\n",
       "      <td>IND</td>\n",
       "      <td>India</td>\n",
       "      <td>AKRIMOTA LIG</td>\n",
       "      <td>IND0000003</td>\n",
       "      <td>250.0</td>\n",
       "      <td>23.7689</td>\n",
       "      <td>68.6447</td>\n",
       "      <td>Coal</td>\n",
       "      <td>Central Electricity Authority</td>\n",
       "      <td>WRI</td>\n",
       "      <td>2019.0</td>\n",
       "      <td>1153.421000</td>\n",
       "      <td>1208.8520</td>\n",
       "      <td>1175.765000</td>\n",
       "      <td>1147.913000</td>\n",
       "      <td>976.655000</td>\n",
       "      <td>Central Electricity Authority</td>\n",
       "    </tr>\n",
       "    <tr>\n",
       "      <th>6</th>\n",
       "      <td>IND</td>\n",
       "      <td>India</td>\n",
       "      <td>ALIYAR</td>\n",
       "      <td>IND0000004</td>\n",
       "      <td>60.0</td>\n",
       "      <td>10.4547</td>\n",
       "      <td>77.0078</td>\n",
       "      <td>Hydro</td>\n",
       "      <td>Central Electricity Authority</td>\n",
       "      <td>WRI</td>\n",
       "      <td>2019.0</td>\n",
       "      <td>157.558250</td>\n",
       "      <td>152.1952</td>\n",
       "      <td>61.421350</td>\n",
       "      <td>89.629600</td>\n",
       "      <td>48.327150</td>\n",
       "      <td>Central Electricity Authority</td>\n",
       "    </tr>\n",
       "    <tr>\n",
       "      <th>7</th>\n",
       "      <td>IND</td>\n",
       "      <td>India</td>\n",
       "      <td>ALLAIN DUHANGAN</td>\n",
       "      <td>IND0000005</td>\n",
       "      <td>192.0</td>\n",
       "      <td>32.2258</td>\n",
       "      <td>77.2070</td>\n",
       "      <td>Hydro</td>\n",
       "      <td>Central Electricity Authority</td>\n",
       "      <td>WRI</td>\n",
       "      <td>2019.0</td>\n",
       "      <td>674.391100</td>\n",
       "      <td>721.3352</td>\n",
       "      <td>675.724400</td>\n",
       "      <td>679.594950</td>\n",
       "      <td>579.318850</td>\n",
       "      <td>Central Electricity Authority</td>\n",
       "    </tr>\n",
       "  </tbody>\n",
       "</table>\n",
       "</div>"
      ],
      "text/plain": [
       "  country country_long             name   gppd_idnr  capacity_mw  latitude  \\\n",
       "3     IND        India      AGARTALA GT  IND0000001        135.0   23.8712   \n",
       "4     IND        India     AKALTARA TPP  IND0000002       1800.0   21.9603   \n",
       "5     IND        India     AKRIMOTA LIG  IND0000003        250.0   23.7689   \n",
       "6     IND        India           ALIYAR  IND0000004         60.0   10.4547   \n",
       "7     IND        India  ALLAIN DUHANGAN  IND0000005        192.0   32.2258   \n",
       "\n",
       "   longitude primary_fuel                         source geolocation_source  \\\n",
       "3    91.3602          Gas  Central Electricity Authority                WRI   \n",
       "4    82.4091         Coal  Central Electricity Authority                WRI   \n",
       "5    68.6447         Coal  Central Electricity Authority                WRI   \n",
       "6    77.0078        Hydro  Central Electricity Authority                WRI   \n",
       "7    77.2070        Hydro  Central Electricity Authority                WRI   \n",
       "\n",
       "   year_of_capacity_data  generation_gwh_2014  generation_gwh_2015  \\\n",
       "3                 2019.0           617.789264             843.7470   \n",
       "4                 2019.0          3035.550000            5916.3700   \n",
       "5                 2019.0          1153.421000            1208.8520   \n",
       "6                 2019.0           157.558250             152.1952   \n",
       "7                 2019.0           674.391100             721.3352   \n",
       "\n",
       "   generation_gwh_2016  generation_gwh_2017  generation_gwh_2018  \\\n",
       "3           886.004428           663.774500           626.239128   \n",
       "4          6243.000000          5385.579736          7279.000000   \n",
       "5          1175.765000          1147.913000           976.655000   \n",
       "6            61.421350            89.629600            48.327150   \n",
       "7           675.724400           679.594950           579.318850   \n",
       "\n",
       "          generation_data_source  \n",
       "3  Central Electricity Authority  \n",
       "4  Central Electricity Authority  \n",
       "5  Central Electricity Authority  \n",
       "6  Central Electricity Authority  \n",
       "7  Central Electricity Authority  "
      ]
     },
     "execution_count": 11,
     "metadata": {},
     "output_type": "execute_result"
    }
   ],
   "source": [
    "df.head()"
   ]
  },
  {
   "cell_type": "code",
   "execution_count": 12,
   "id": "2581130b",
   "metadata": {},
   "outputs": [
    {
     "data": {
      "text/plain": [
       "(385, 17)"
      ]
     },
     "execution_count": 12,
     "metadata": {},
     "output_type": "execute_result"
    }
   ],
   "source": [
    "df.shape"
   ]
  },
  {
   "cell_type": "code",
   "execution_count": 13,
   "id": "766ea373",
   "metadata": {},
   "outputs": [
    {
     "data": {
      "text/plain": [
       "array(['Gas', 'Coal', 'Hydro', 'Oil', 'Nuclear'], dtype=object)"
      ]
     },
     "execution_count": 13,
     "metadata": {},
     "output_type": "execute_result"
    }
   ],
   "source": [
    "df['primary_fuel'].unique()"
   ]
  },
  {
   "cell_type": "markdown",
   "id": "396615c3",
   "metadata": {},
   "source": [
    "Gas, Coal, Hydro, Oil, Nuclear are the fules for different power plant in our dataset"
   ]
  },
  {
   "cell_type": "code",
   "execution_count": 14,
   "id": "d205b5fb",
   "metadata": {},
   "outputs": [
    {
     "data": {
      "text/plain": [
       "array(['IND'], dtype=object)"
      ]
     },
     "execution_count": 14,
     "metadata": {},
     "output_type": "execute_result"
    }
   ],
   "source": [
    "df['country'].unique()"
   ]
  },
  {
   "cell_type": "code",
   "execution_count": 15,
   "id": "549f7070",
   "metadata": {},
   "outputs": [
    {
     "name": "stdout",
     "output_type": "stream",
     "text": [
      "<class 'pandas.core.frame.DataFrame'>\n",
      "Int64Index: 385 entries, 3 to 899\n",
      "Data columns (total 17 columns):\n",
      " #   Column                  Non-Null Count  Dtype  \n",
      "---  ------                  --------------  -----  \n",
      " 0   country                 385 non-null    object \n",
      " 1   country_long            385 non-null    object \n",
      " 2   name                    385 non-null    object \n",
      " 3   gppd_idnr               385 non-null    object \n",
      " 4   capacity_mw             385 non-null    float64\n",
      " 5   latitude                385 non-null    float64\n",
      " 6   longitude               385 non-null    float64\n",
      " 7   primary_fuel            385 non-null    object \n",
      " 8   source                  385 non-null    object \n",
      " 9   geolocation_source      385 non-null    object \n",
      " 10  year_of_capacity_data   385 non-null    float64\n",
      " 11  generation_gwh_2014     385 non-null    float64\n",
      " 12  generation_gwh_2015     385 non-null    float64\n",
      " 13  generation_gwh_2016     385 non-null    float64\n",
      " 14  generation_gwh_2017     385 non-null    float64\n",
      " 15  generation_gwh_2018     385 non-null    float64\n",
      " 16  generation_data_source  385 non-null    object \n",
      "dtypes: float64(9), object(8)\n",
      "memory usage: 54.1+ KB\n"
     ]
    }
   ],
   "source": [
    "df.info()"
   ]
  },
  {
   "cell_type": "code",
   "execution_count": 16,
   "id": "afc7b293",
   "metadata": {},
   "outputs": [
    {
     "data": {
      "text/plain": [
       "<AxesSubplot:xlabel='capacity_mw', ylabel='country_long'>"
      ]
     },
     "execution_count": 16,
     "metadata": {},
     "output_type": "execute_result"
    },
    {
     "data": {
      "image/png": "[encoded data removed]",
      "text/plain": [
       "<Figure size 432x288 with 1 Axes>"
      ]
     },
     "metadata": {
      "needs_background": "light"
     },
     "output_type": "display_data"
    }
   ],
   "source": [
    "sns.boxplot(x='capacity_mw',y='country_long', data=df)"
   ]
  },
  {
   "cell_type": "markdown",
   "id": "a02473b1",
   "metadata": {},
   "source": [
    "After Data cleaning, We have left with power plant operating in INDIA only.\n",
    "Most of the power plant's operating capcity is between 0 to 1500 mw\n",
    "Only country after nan removal left is India so we will drop country and country_long column and source\n",
    "We will aslo remove gppd_idnr as it is highly corelated with names column"
   ]
  },
  {
   "cell_type": "code",
   "execution_count": 17,
   "id": "5f539d4f",
   "metadata": {},
   "outputs": [],
   "source": [
    "df = df.drop(columns = ['country','country_long','source','geolocation_source','generation_data_source','year_of_capacity_data','gppd_idnr'])"
   ]
  },
  {
   "cell_type": "code",
   "execution_count": 18,
   "id": "dc2d64ee",
   "metadata": {},
   "outputs": [
    {
     "data": {
      "text/plain": [
       "(385, 10)"
      ]
     },
     "execution_count": 18,
     "metadata": {},
     "output_type": "execute_result"
    }
   ],
   "source": [
    "df.shape"
   ]
  },
  {
   "cell_type": "markdown",
   "id": "e3e34b59",
   "metadata": {},
   "source": [
    "# Encoding"
   ]
  },
  {
   "cell_type": "code",
   "execution_count": 19,
   "id": "b2fd4564",
   "metadata": {},
   "outputs": [
    {
     "name": "stdout",
     "output_type": "stream",
     "text": [
      "name\n",
      "primary_fuel\n"
     ]
    }
   ],
   "source": [
    "for col in df.columns:\n",
    "    if df[col].dtype == object:\n",
    "        print(col)"
   ]
  },
  {
   "cell_type": "code",
   "execution_count": 20,
   "id": "01f4cb68",
   "metadata": {},
   "outputs": [],
   "source": [
    "le = LabelEncoder()"
   ]
  },
  {
   "cell_type": "code",
   "execution_count": 21,
   "id": "06d5186a",
   "metadata": {},
   "outputs": [
    {
     "data": {
      "text/plain": [
       "array([  0,   1,   2,   3,   4,   5,   6,   7,   8,   9,  10,  11,  12,\n",
       "        13,  14,  15,  16,  17,  18,  19,  20,  21,  22,  23,  24,  25,\n",
       "        26,  27,  28,  29,  30,  31,  32,  33,  34,  35,  36,  37,  38,\n",
       "        39,  40,  41,  42,  43,  44,  45,  46,  47,  48,  49,  50,  51,\n",
       "        52,  53,  54,  55,  56,  57,  58,  59,  60,  61,  62,  63,  64,\n",
       "        65,  66,  67,  68,  69,  70,  71,  72,  73,  74,  75,  76,  77,\n",
       "        78,  79,  80,  81,  82,  83,  84,  85,  86,  87,  88,  89,  90,\n",
       "        91,  92,  93,  94,  95,  96,  97,  98,  99, 100, 101, 102, 103,\n",
       "       104, 105, 106, 107, 108, 109, 110, 111, 112, 113, 114, 115, 116,\n",
       "       117, 118, 119, 120, 121, 122, 123, 124, 125, 126, 127, 128, 129,\n",
       "       130, 131, 132, 133, 134, 135, 136, 137, 138, 139, 140, 141, 142,\n",
       "       143, 144, 145, 146, 147, 148, 149, 150, 151, 152, 153, 154, 155,\n",
       "       156, 157, 158, 159, 160, 161, 162, 163, 164, 165, 166, 167, 168,\n",
       "       169, 170, 171, 172, 173, 174, 175, 176, 177, 178, 179, 180, 181,\n",
       "       182, 183, 184, 185, 186, 187, 188, 189, 190, 191, 192, 193, 194,\n",
       "       195, 196, 197, 198, 199, 200, 201, 202, 203, 204, 205, 206, 207,\n",
       "       208, 209, 210, 211, 212, 213, 214, 215, 216, 217, 218, 219, 220,\n",
       "       221, 222, 223, 224, 225, 226, 227, 228, 229, 230, 231, 232, 233,\n",
       "       234, 235, 236, 237, 238, 239, 240, 241, 242, 243, 244, 245, 246,\n",
       "       247, 248, 249, 250, 251, 252, 253, 254, 255, 256, 257, 258, 259,\n",
       "       260, 261, 262, 263, 264, 265, 266, 267, 268, 269, 270, 271, 272,\n",
       "       273, 274, 275, 276, 277, 278, 279, 280, 281, 282, 283, 284, 285,\n",
       "       286, 287, 288, 289, 290, 291, 292, 293, 294, 295, 296, 297, 298,\n",
       "       299, 300, 301, 302, 303, 304, 305, 306, 307, 308, 309, 310, 311,\n",
       "       312, 313, 314, 315, 316, 317, 318, 319, 320, 321, 322, 323, 324,\n",
       "       325, 326, 327, 328, 329, 330, 331, 332, 333, 334, 335, 336, 337,\n",
       "       338, 339, 340, 341, 342, 343, 344, 345, 346, 347, 348, 349, 350,\n",
       "       351, 352, 353, 354, 355, 356, 357, 358, 359, 360, 361, 362, 363,\n",
       "       364, 365, 366, 367, 368, 369, 370, 371, 372, 373, 374, 375, 376,\n",
       "       377, 378, 379, 380, 381, 382, 383, 384])"
      ]
     },
     "execution_count": 21,
     "metadata": {},
     "output_type": "execute_result"
    }
   ],
   "source": [
    "name_encoding = le.fit_transform(df['name'])\n",
    "name_encoding "
   ]
  },
  {
   "cell_type": "code",
   "execution_count": 22,
   "id": "46779bcf",
   "metadata": {},
   "outputs": [
    {
     "data": {
      "text/plain": [
       "array([1, 0, 0, 2, 2, 2, 0, 0, 2, 0, 0, 1, 1, 0, 0, 2, 2, 0, 2, 0, 2, 2,\n",
       "       2, 0, 1, 0, 2, 0, 0, 0, 1, 2, 2, 0, 2, 2, 2, 2, 2, 2, 0, 2, 2, 2,\n",
       "       0, 0, 0, 4, 1, 0, 2, 0, 0, 2, 2, 2, 0, 0, 2, 0, 2, 2, 2, 2, 0, 0,\n",
       "       1, 0, 2, 0, 1, 2, 2, 0, 0, 2, 1, 1, 2, 2, 0, 0, 1, 0, 1, 1, 1, 0,\n",
       "       2, 2, 1, 0, 2, 2, 0, 2, 0, 1, 0, 2, 2, 1, 1, 2, 0, 0, 1, 2, 2, 0,\n",
       "       2, 0, 2, 2, 0, 1, 2, 0, 0, 2, 2, 2, 0, 3, 0, 2, 3, 2, 2, 0, 0, 1,\n",
       "       2, 2, 1, 0, 1, 0, 1, 1, 0, 2, 2, 2, 2, 2, 2, 2, 0, 4, 0, 2, 1, 2,\n",
       "       0, 0, 0, 0, 0, 2, 2, 1, 2, 2, 2, 3, 0, 0, 1, 2, 2, 2, 0, 0, 0, 1,\n",
       "       2, 2, 2, 2, 2, 2, 2, 3, 2, 2, 0, 0, 0, 2, 2, 0, 2, 2, 0, 2, 0, 0,\n",
       "       0, 0, 2, 0, 0, 1, 0, 2, 2, 0, 0, 2, 0, 2, 3, 2, 1, 2, 0, 0, 2, 0,\n",
       "       0, 0, 0, 0, 0, 2, 0, 0, 2, 2, 2, 0, 2, 1, 1, 0, 1, 2, 4, 2, 0, 2,\n",
       "       2, 0, 2, 0, 0, 2, 0, 1, 2, 2, 1, 2, 2, 2, 1, 1, 2, 2, 2, 2, 3, 2,\n",
       "       0, 0, 0, 0, 0, 2, 0, 0, 2, 1, 2, 2, 2, 2, 2, 0, 1, 0, 2, 0, 2, 1,\n",
       "       1, 0, 0, 0, 0, 2, 2, 2, 0, 2, 0, 0, 2, 0, 0, 2, 0, 0, 2, 2, 2, 2,\n",
       "       2, 2, 2, 0, 0, 0, 0, 0, 2, 0, 2, 2, 0, 2, 1, 0, 0, 2, 0, 0, 2, 0,\n",
       "       0, 0, 0, 2, 0, 1, 3, 2, 2, 2, 2, 0, 0, 2, 0, 0, 0, 0, 0, 4, 1, 0,\n",
       "       0, 0, 0, 2, 0, 0, 2, 2, 0, 2, 2, 2, 2, 1, 2, 2, 1, 0, 2, 1, 0, 1,\n",
       "       2, 1, 0, 0, 1, 0, 2, 0, 0, 2, 0])"
      ]
     },
     "execution_count": 22,
     "metadata": {},
     "output_type": "execute_result"
    }
   ],
   "source": [
    "primary_fuel_encoding = le.fit_transform(df['primary_fuel'])\n",
    "primary_fuel_encoding "
   ]
  },
  {
   "cell_type": "code",
   "execution_count": 23,
   "id": "aa781192",
   "metadata": {},
   "outputs": [],
   "source": [
    "df['name'] = name_encoding\n",
    "df['primary_fuel'] = primary_fuel_encoding "
   ]
  },
  {
   "cell_type": "code",
   "execution_count": 24,
   "id": "696e732b",
   "metadata": {},
   "outputs": [
    {
     "data": {
      "text/html": [
       "<div>\n",
       "<style scoped>\n",
       "    .dataframe tbody tr th:only-of-type {\n",
       "        vertical-align: middle;\n",
       "    }\n",
       "\n",
       "    .dataframe tbody tr th {\n",
       "        vertical-align: top;\n",
       "    }\n",
       "\n",
       "    .dataframe thead th {\n",
       "        text-align: right;\n",
       "    }\n",
       "</style>\n",
       "<table border=\"1\" class=\"dataframe\">\n",
       "  <thead>\n",
       "    <tr style=\"text-align: right;\">\n",
       "      <th></th>\n",
       "      <th>name</th>\n",
       "      <th>capacity_mw</th>\n",
       "      <th>latitude</th>\n",
       "      <th>longitude</th>\n",
       "      <th>primary_fuel</th>\n",
       "      <th>generation_gwh_2014</th>\n",
       "      <th>generation_gwh_2015</th>\n",
       "      <th>generation_gwh_2016</th>\n",
       "      <th>generation_gwh_2017</th>\n",
       "      <th>generation_gwh_2018</th>\n",
       "    </tr>\n",
       "  </thead>\n",
       "  <tbody>\n",
       "    <tr>\n",
       "      <th>3</th>\n",
       "      <td>0</td>\n",
       "      <td>135.0</td>\n",
       "      <td>23.8712</td>\n",
       "      <td>91.3602</td>\n",
       "      <td>1</td>\n",
       "      <td>617.789264</td>\n",
       "      <td>843.7470</td>\n",
       "      <td>886.004428</td>\n",
       "      <td>663.774500</td>\n",
       "      <td>626.239128</td>\n",
       "    </tr>\n",
       "    <tr>\n",
       "      <th>4</th>\n",
       "      <td>1</td>\n",
       "      <td>1800.0</td>\n",
       "      <td>21.9603</td>\n",
       "      <td>82.4091</td>\n",
       "      <td>0</td>\n",
       "      <td>3035.550000</td>\n",
       "      <td>5916.3700</td>\n",
       "      <td>6243.000000</td>\n",
       "      <td>5385.579736</td>\n",
       "      <td>7279.000000</td>\n",
       "    </tr>\n",
       "    <tr>\n",
       "      <th>5</th>\n",
       "      <td>2</td>\n",
       "      <td>250.0</td>\n",
       "      <td>23.7689</td>\n",
       "      <td>68.6447</td>\n",
       "      <td>0</td>\n",
       "      <td>1153.421000</td>\n",
       "      <td>1208.8520</td>\n",
       "      <td>1175.765000</td>\n",
       "      <td>1147.913000</td>\n",
       "      <td>976.655000</td>\n",
       "    </tr>\n",
       "    <tr>\n",
       "      <th>6</th>\n",
       "      <td>3</td>\n",
       "      <td>60.0</td>\n",
       "      <td>10.4547</td>\n",
       "      <td>77.0078</td>\n",
       "      <td>2</td>\n",
       "      <td>157.558250</td>\n",
       "      <td>152.1952</td>\n",
       "      <td>61.421350</td>\n",
       "      <td>89.629600</td>\n",
       "      <td>48.327150</td>\n",
       "    </tr>\n",
       "    <tr>\n",
       "      <th>7</th>\n",
       "      <td>4</td>\n",
       "      <td>192.0</td>\n",
       "      <td>32.2258</td>\n",
       "      <td>77.2070</td>\n",
       "      <td>2</td>\n",
       "      <td>674.391100</td>\n",
       "      <td>721.3352</td>\n",
       "      <td>675.724400</td>\n",
       "      <td>679.594950</td>\n",
       "      <td>579.318850</td>\n",
       "    </tr>\n",
       "  </tbody>\n",
       "</table>\n",
       "</div>"
      ],
      "text/plain": [
       "   name  capacity_mw  latitude  longitude  primary_fuel  generation_gwh_2014  \\\n",
       "3     0        135.0   23.8712    91.3602             1           617.789264   \n",
       "4     1       1800.0   21.9603    82.4091             0          3035.550000   \n",
       "5     2        250.0   23.7689    68.6447             0          1153.421000   \n",
       "6     3         60.0   10.4547    77.0078             2           157.558250   \n",
       "7     4        192.0   32.2258    77.2070             2           674.391100   \n",
       "\n",
       "   generation_gwh_2015  generation_gwh_2016  generation_gwh_2017  \\\n",
       "3             843.7470           886.004428           663.774500   \n",
       "4            5916.3700          6243.000000          5385.579736   \n",
       "5            1208.8520          1175.765000          1147.913000   \n",
       "6             152.1952            61.421350            89.629600   \n",
       "7             721.3352           675.724400           679.594950   \n",
       "\n",
       "   generation_gwh_2018  \n",
       "3           626.239128  \n",
       "4          7279.000000  \n",
       "5           976.655000  \n",
       "6            48.327150  \n",
       "7           579.318850  "
      ]
     },
     "execution_count": 24,
     "metadata": {},
     "output_type": "execute_result"
    }
   ],
   "source": [
    "df.head()"
   ]
  },
  {
   "cell_type": "code",
   "execution_count": 25,
   "id": "ea2bd76a",
   "metadata": {},
   "outputs": [
    {
     "name": "stdout",
     "output_type": "stream",
     "text": [
      "<class 'pandas.core.frame.DataFrame'>\n",
      "Int64Index: 385 entries, 3 to 899\n",
      "Data columns (total 10 columns):\n",
      " #   Column               Non-Null Count  Dtype  \n",
      "---  ------               --------------  -----  \n",
      " 0   name                 385 non-null    int32  \n",
      " 1   capacity_mw          385 non-null    float64\n",
      " 2   latitude             385 non-null    float64\n",
      " 3   longitude            385 non-null    float64\n",
      " 4   primary_fuel         385 non-null    int32  \n",
      " 5   generation_gwh_2014  385 non-null    float64\n",
      " 6   generation_gwh_2015  385 non-null    float64\n",
      " 7   generation_gwh_2016  385 non-null    float64\n",
      " 8   generation_gwh_2017  385 non-null    float64\n",
      " 9   generation_gwh_2018  385 non-null    float64\n",
      "dtypes: float64(8), int32(2)\n",
      "memory usage: 38.2 KB\n"
     ]
    }
   ],
   "source": [
    "df.info()"
   ]
  },
  {
   "cell_type": "code",
   "execution_count": 26,
   "id": "4cabf387",
   "metadata": {},
   "outputs": [
    {
     "data": {
      "image/png": "[encoded data removed]",
      "text/plain": [
       "<Figure size 1080x2880 with 10 Axes>"
      ]
     },
     "metadata": {},
     "output_type": "display_data"
    }
   ],
   "source": [
    "plt.figure(figsize=(15,40), facecolor='yellow')\n",
    "plotnumber=1\n",
    "\n",
    "for column in df:\n",
    "    plt.subplot(5,3,plotnumber)\n",
    "    sns.histplot(df[column], kde=True)\n",
    "    #sns.distplot(df[column])\n",
    "    plt.xlabel(column, fontsize=15)\n",
    "    plotnumber += 1\n",
    "    \n",
    "plt.tight_layout()"
   ]
  },
  {
   "cell_type": "markdown",
   "id": "ddc2c37c",
   "metadata": {},
   "source": [
    "# Prediction for Primary Fuel"
   ]
  },
  {
   "cell_type": "code",
   "execution_count": 27,
   "id": "008723b8",
   "metadata": {},
   "outputs": [
    {
     "data": {
      "text/plain": [
       "capacity_mw           -0.489104\n",
       "generation_gwh_2017   -0.446759\n",
       "generation_gwh_2018   -0.446221\n",
       "generation_gwh_2016   -0.440490\n",
       "generation_gwh_2015   -0.432535\n",
       "generation_gwh_2014   -0.415422\n",
       "longitude             -0.172285\n",
       "name                  -0.043162\n",
       "latitude               0.016271\n",
       "primary_fuel           1.000000\n",
       "Name: primary_fuel, dtype: float64"
      ]
     },
     "execution_count": 27,
     "metadata": {},
     "output_type": "execute_result"
    }
   ],
   "source": [
    "df.corr()['primary_fuel'].sort_values(ascending = True)"
   ]
  },
  {
   "cell_type": "code",
   "execution_count": 28,
   "id": "2dc6d5fd",
   "metadata": {},
   "outputs": [
    {
     "name": "stdout",
     "output_type": "stream",
     "text": [
      "features shape (385, 9) \n",
      "Label Shape (385,)\n"
     ]
    }
   ],
   "source": [
    "x = df.drop(columns = ['primary_fuel'])\n",
    "y = df['primary_fuel']\n",
    "\n",
    "print('features shape',x.shape,'\\n' 'Label Shape',y.shape)"
   ]
  },
  {
   "cell_type": "code",
   "execution_count": 29,
   "id": "7252bcce",
   "metadata": {},
   "outputs": [],
   "source": [
    " x_train,x_test,y_train,y_test = train_test_split(x,y,train_size=0.70)"
   ]
  },
  {
   "cell_type": "markdown",
   "id": "540d5c27",
   "metadata": {},
   "source": [
    "Model Selection"
   ]
  },
  {
   "cell_type": "markdown",
   "id": "50c0bc57",
   "metadata": {},
   "source": [
    "Logistics Regression"
   ]
  },
  {
   "cell_type": "code",
   "execution_count": 30,
   "id": "cdb5e0d5",
   "metadata": {},
   "outputs": [
    {
     "data": {
      "text/plain": [
       "-1.1229034123770965"
      ]
     },
     "execution_count": 30,
     "metadata": {},
     "output_type": "execute_result"
    }
   ],
   "source": [
    "lr = LogisticRegression()\n",
    "lr_score = cross_val_score(lr, x_train , y_train ,cv = 7 ,scoring = 'neg_mean_squared_error')\n",
    "lr_score.mean()"
   ]
  },
  {
   "cell_type": "markdown",
   "id": "176f65ca",
   "metadata": {},
   "source": [
    "Random Forest Classifier"
   ]
  },
  {
   "cell_type": "code",
   "execution_count": 31,
   "id": "6b884022",
   "metadata": {},
   "outputs": [
    {
     "data": {
      "text/plain": [
       "-0.7045498361287834"
      ]
     },
     "execution_count": 31,
     "metadata": {},
     "output_type": "execute_result"
    }
   ],
   "source": [
    "rf = RandomForestClassifier()\n",
    "rf_score = cross_val_score(rf, x_train , y_train ,cv = 7 ,scoring = 'neg_mean_squared_error')\n",
    "rf_score.mean()"
   ]
  },
  {
   "cell_type": "markdown",
   "id": "fb415982",
   "metadata": {},
   "source": [
    "Support Vector Classifier"
   ]
  },
  {
   "cell_type": "code",
   "execution_count": 32,
   "id": "3ff9a9aa",
   "metadata": {},
   "outputs": [
    {
     "data": {
      "text/plain": [
       "-0.8893387314439946"
      ]
     },
     "execution_count": 32,
     "metadata": {},
     "output_type": "execute_result"
    }
   ],
   "source": [
    "svc=SVC()\n",
    "svc_score = cross_val_score(svc, x_train , y_train ,cv = 7 ,scoring = 'neg_mean_squared_error')\n",
    "svc_score.mean()"
   ]
  },
  {
   "cell_type": "markdown",
   "id": "3c25a609",
   "metadata": {},
   "source": [
    "K Neighbors Classifier"
   ]
  },
  {
   "cell_type": "code",
   "execution_count": 33,
   "id": "874396a8",
   "metadata": {},
   "outputs": [
    {
     "data": {
      "text/plain": [
       "-0.826007326007326"
      ]
     },
     "execution_count": 33,
     "metadata": {},
     "output_type": "execute_result"
    }
   ],
   "source": [
    "knn = KNeighborsClassifier()\n",
    "knn_score = cross_val_score(knn, x_train , y_train ,cv = 7 ,scoring = 'neg_mean_squared_error')\n",
    "knn_score.mean()"
   ]
  },
  {
   "cell_type": "markdown",
   "id": "34ebc75e",
   "metadata": {},
   "source": [
    "Decision Tree Classifier"
   ]
  },
  {
   "cell_type": "code",
   "execution_count": 34,
   "id": "49acb84b",
   "metadata": {},
   "outputs": [
    {
     "data": {
      "text/plain": [
       "-0.8515519568151148"
      ]
     },
     "execution_count": 34,
     "metadata": {},
     "output_type": "execute_result"
    }
   ],
   "source": [
    "dt = DecisionTreeClassifier()\n",
    "dt_score = cross_val_score(dt, x_train , y_train ,cv = 7 ,scoring = 'neg_mean_squared_error')\n",
    "dt_score.mean()"
   ]
  },
  {
   "cell_type": "markdown",
   "id": "f28a33d5",
   "metadata": {},
   "source": [
    "We observed minimum negative mean squared error for Random Forest Classifier, Will hypertune this model"
   ]
  },
  {
   "cell_type": "code",
   "execution_count": 35,
   "id": "dcd8f971",
   "metadata": {},
   "outputs": [],
   "source": [
    "gcv = GridSearchCV"
   ]
  },
  {
   "cell_type": "code",
   "execution_count": 36,
   "id": "ec402790",
   "metadata": {},
   "outputs": [],
   "source": [
    "params = {\n",
    "    'max_features': ['auto','sqrt','log2'],\n",
    "         'max_depth':[4,5,6,7,8],\n",
    "         'criterion':['gini','entropy'],\n",
    "         \"n_estimators\":[10,50,120,350]\n",
    "         }"
   ]
  },
  {
   "cell_type": "code",
   "execution_count": 37,
   "id": "e15a1fc6",
   "metadata": {},
   "outputs": [
    {
     "data": {
      "text/plain": [
       "{'criterion': 'gini',\n",
       " 'max_depth': 8,\n",
       " 'max_features': 'sqrt',\n",
       " 'n_estimators': 120}"
      ]
     },
     "execution_count": 37,
     "metadata": {},
     "output_type": "execute_result"
    }
   ],
   "source": [
    "hypt = gcv(rf, params, cv=7, scoring='accuracy')\n",
    "\n",
    "hypt.fit(x_train,y_train)\n",
    "\n",
    "hypt.best_params_"
   ]
  },
  {
   "cell_type": "markdown",
   "id": "a6622f34",
   "metadata": {},
   "source": [
    "# Random Forest Classifier"
   ]
  },
  {
   "cell_type": "code",
   "execution_count": 38,
   "id": "95334f86",
   "metadata": {},
   "outputs": [],
   "source": [
    "rf = RandomForestClassifier(n_estimators=50, max_depth=6, max_features= 'sqrt', criterion='gini')"
   ]
  },
  {
   "cell_type": "code",
   "execution_count": 39,
   "id": "881fdf45",
   "metadata": {},
   "outputs": [
    {
     "name": "stdout",
     "output_type": "stream",
     "text": [
      "Max Accuracy 0.8448275862068966 Max Random State 72\n"
     ]
    }
   ],
   "source": [
    "maxAcc = 0\n",
    "maxRS = 0\n",
    "\n",
    "for i in range(1,150):\n",
    "    x_train,x_test,y_train,y_test = train_test_split(x,y,train_size=0.70, random_state=i)\n",
    "    rf.fit(x_train,y_train)\n",
    "    y_pred_test = rf.predict(x_test)\n",
    "    y_pred_train = rf.predict(x_train)\n",
    "    acc=accuracy_score(y_test, y_pred_test)\n",
    "    #print('accuracy', acc, 'random state',i)\n",
    "    \n",
    "    \n",
    "    if acc>maxAcc:\n",
    "        maxAcc = acc\n",
    "        maxRS = i\n",
    "print('Max Accuracy', maxAcc, 'Max Random State', maxRS)"
   ]
  },
  {
   "cell_type": "markdown",
   "id": "6c020083",
   "metadata": {},
   "source": [
    "# Score Report of the Model"
   ]
  },
  {
   "cell_type": "code",
   "execution_count": 40,
   "id": "277686ef",
   "metadata": {},
   "outputs": [
    {
     "name": "stdout",
     "output_type": "stream",
     "text": [
      "              precision    recall  f1-score   support\n",
      "\n",
      "           0       0.77      0.82      0.79        44\n",
      "           1       0.38      0.27      0.32        11\n",
      "           2       0.87      0.91      0.89        58\n",
      "           3       0.00      0.00      0.00         1\n",
      "           4       0.00      0.00      0.00         2\n",
      "\n",
      "    accuracy                           0.79       116\n",
      "   macro avg       0.40      0.40      0.40       116\n",
      "weighted avg       0.76      0.79      0.78       116\n",
      "\n"
     ]
    }
   ],
   "source": [
    "#Testing Report\n",
    "print(classification_report(y_test , y_pred_test))"
   ]
  },
  {
   "cell_type": "code",
   "execution_count": 41,
   "id": "c44ba131",
   "metadata": {},
   "outputs": [
    {
     "name": "stdout",
     "output_type": "stream",
     "text": [
      "              precision    recall  f1-score   support\n",
      "\n",
      "           0       0.95      0.94      0.95       113\n",
      "           1       1.00      0.85      0.92        40\n",
      "           2       0.89      0.99      0.94       108\n",
      "           3       1.00      0.33      0.50         6\n",
      "           4       1.00      1.00      1.00         2\n",
      "\n",
      "    accuracy                           0.93       269\n",
      "   macro avg       0.97      0.82      0.86       269\n",
      "weighted avg       0.94      0.93      0.93       269\n",
      "\n"
     ]
    }
   ],
   "source": [
    "#Training Report\n",
    "print(classification_report(y_train , y_pred_train))"
   ]
  },
  {
   "cell_type": "markdown",
   "id": "fef38554",
   "metadata": {},
   "source": [
    "# Confusion Matrix"
   ]
  },
  {
   "cell_type": "code",
   "execution_count": 42,
   "id": "2f5a9ff9",
   "metadata": {},
   "outputs": [
    {
     "data": {
      "text/plain": [
       "<AxesSubplot:>"
      ]
     },
     "execution_count": 42,
     "metadata": {},
     "output_type": "execute_result"
    },
    {
     "data": {
      "image/png": "[encoded data removed]",
      "text/plain": [
       "<Figure size 432x288 with 2 Axes>"
      ]
     },
     "metadata": {
      "needs_background": "light"
     },
     "output_type": "display_data"
    }
   ],
   "source": [
    "#train\n",
    "cmtrain = confusion_matrix(y_train, y_pred_train)\n",
    "cmtrain\n",
    "sns.heatmap(cmtrain, annot = True, linewidth=0.5)\n"
   ]
  },
  {
   "cell_type": "code",
   "execution_count": 43,
   "id": "887b3c7e",
   "metadata": {},
   "outputs": [
    {
     "data": {
      "text/plain": [
       "<AxesSubplot:>"
      ]
     },
     "execution_count": 43,
     "metadata": {},
     "output_type": "execute_result"
    },
    {
     "data": {
      "image/png": "[encoded data removed]",
      "text/plain": [
       "<Figure size 432x288 with 2 Axes>"
      ]
     },
     "metadata": {
      "needs_background": "light"
     },
     "output_type": "display_data"
    }
   ],
   "source": [
    "#test\n",
    "cmtest = confusion_matrix(y_test, y_pred_test)\n",
    "sns.heatmap(cmtest, annot = True, linewidth=0.5)"
   ]
  },
  {
   "cell_type": "markdown",
   "id": "f54f1b89",
   "metadata": {},
   "source": [
    "Saving the Classification Model"
   ]
  },
  {
   "cell_type": "code",
   "execution_count": 44,
   "id": "44965a39",
   "metadata": {},
   "outputs": [],
   "source": [
    "import pickle"
   ]
  },
  {
   "cell_type": "code",
   "execution_count": 45,
   "id": "14097474",
   "metadata": {},
   "outputs": [],
   "source": [
    "pickle.dump('rf', open('Randomforest_model_for_primary_fuel', 'wb'))"
   ]
  },
  {
   "cell_type": "markdown",
   "id": "e537359c",
   "metadata": {},
   "source": [
    "# Prediction for capacity_mw"
   ]
  },
  {
   "cell_type": "code",
   "execution_count": 46,
   "id": "bf63a507",
   "metadata": {},
   "outputs": [],
   "source": [
    "from sklearn.preprocessing import power_transform"
   ]
  },
  {
   "cell_type": "code",
   "execution_count": 47,
   "id": "435a4d0a",
   "metadata": {},
   "outputs": [],
   "source": [
    "d = power_transform(df)"
   ]
  },
  {
   "cell_type": "code",
   "execution_count": 48,
   "id": "fbee548e",
   "metadata": {},
   "outputs": [],
   "source": [
    "df = pd.DataFrame(d, columns = df.columns)"
   ]
  },
  {
   "cell_type": "code",
   "execution_count": 49,
   "id": "00f94571",
   "metadata": {},
   "outputs": [
    {
     "data": {
      "text/html": [
       "<div>\n",
       "<style scoped>\n",
       "    .dataframe tbody tr th:only-of-type {\n",
       "        vertical-align: middle;\n",
       "    }\n",
       "\n",
       "    .dataframe tbody tr th {\n",
       "        vertical-align: top;\n",
       "    }\n",
       "\n",
       "    .dataframe thead th {\n",
       "        text-align: right;\n",
       "    }\n",
       "</style>\n",
       "<table border=\"1\" class=\"dataframe\">\n",
       "  <thead>\n",
       "    <tr style=\"text-align: right;\">\n",
       "      <th></th>\n",
       "      <th>name</th>\n",
       "      <th>capacity_mw</th>\n",
       "      <th>latitude</th>\n",
       "      <th>longitude</th>\n",
       "      <th>primary_fuel</th>\n",
       "      <th>generation_gwh_2014</th>\n",
       "      <th>generation_gwh_2015</th>\n",
       "      <th>generation_gwh_2016</th>\n",
       "      <th>generation_gwh_2017</th>\n",
       "      <th>generation_gwh_2018</th>\n",
       "    </tr>\n",
       "  </thead>\n",
       "  <tbody>\n",
       "    <tr>\n",
       "      <th>0</th>\n",
       "      <td>-2.141620</td>\n",
       "      <td>-0.718268</td>\n",
       "      <td>0.306407</td>\n",
       "      <td>1.949529</td>\n",
       "      <td>0.092492</td>\n",
       "      <td>-0.229752</td>\n",
       "      <td>-0.087512</td>\n",
       "      <td>-0.045687</td>\n",
       "      <td>-0.192056</td>\n",
       "      <td>-0.235409</td>\n",
       "    </tr>\n",
       "    <tr>\n",
       "      <th>1</th>\n",
       "      <td>-2.107032</td>\n",
       "      <td>1.401713</td>\n",
       "      <td>0.018783</td>\n",
       "      <td>0.749626</td>\n",
       "      <td>-1.140995</td>\n",
       "      <td>0.703393</td>\n",
       "      <td>1.152157</td>\n",
       "      <td>1.178553</td>\n",
       "      <td>1.052730</td>\n",
       "      <td>1.251234</td>\n",
       "    </tr>\n",
       "    <tr>\n",
       "      <th>2</th>\n",
       "      <td>-2.077322</td>\n",
       "      <td>-0.251131</td>\n",
       "      <td>0.290933</td>\n",
       "      <td>-3.023768</td>\n",
       "      <td>-1.140995</td>\n",
       "      <td>0.103050</td>\n",
       "      <td>0.110271</td>\n",
       "      <td>0.106913</td>\n",
       "      <td>0.089284</td>\n",
       "      <td>-0.012716</td>\n",
       "    </tr>\n",
       "    <tr>\n",
       "      <th>3</th>\n",
       "      <td>-2.050393</td>\n",
       "      <td>-1.298598</td>\n",
       "      <td>-1.635660</td>\n",
       "      <td>-0.348259</td>\n",
       "      <td>0.932306</td>\n",
       "      <td>-0.833464</td>\n",
       "      <td>-0.873062</td>\n",
       "      <td>-1.164631</td>\n",
       "      <td>-1.009847</td>\n",
       "      <td>-1.217689</td>\n",
       "    </tr>\n",
       "    <tr>\n",
       "      <th>4</th>\n",
       "      <td>-2.025361</td>\n",
       "      <td>-0.454010</td>\n",
       "      <td>1.596181</td>\n",
       "      <td>-0.300869</td>\n",
       "      <td>0.932306</td>\n",
       "      <td>-0.185373</td>\n",
       "      <td>-0.169844</td>\n",
       "      <td>-0.184881</td>\n",
       "      <td>-0.180528</td>\n",
       "      <td>-0.272614</td>\n",
       "    </tr>\n",
       "  </tbody>\n",
       "</table>\n",
       "</div>"
      ],
      "text/plain": [
       "       name  capacity_mw  latitude  longitude  primary_fuel  \\\n",
       "0 -2.141620    -0.718268  0.306407   1.949529      0.092492   \n",
       "1 -2.107032     1.401713  0.018783   0.749626     -1.140995   \n",
       "2 -2.077322    -0.251131  0.290933  -3.023768     -1.140995   \n",
       "3 -2.050393    -1.298598 -1.635660  -0.348259      0.932306   \n",
       "4 -2.025361    -0.454010  1.596181  -0.300869      0.932306   \n",
       "\n",
       "   generation_gwh_2014  generation_gwh_2015  generation_gwh_2016  \\\n",
       "0            -0.229752            -0.087512            -0.045687   \n",
       "1             0.703393             1.152157             1.178553   \n",
       "2             0.103050             0.110271             0.106913   \n",
       "3            -0.833464            -0.873062            -1.164631   \n",
       "4            -0.185373            -0.169844            -0.184881   \n",
       "\n",
       "   generation_gwh_2017  generation_gwh_2018  \n",
       "0            -0.192056            -0.235409  \n",
       "1             1.052730             1.251234  \n",
       "2             0.089284            -0.012716  \n",
       "3            -1.009847            -1.217689  \n",
       "4            -0.180528            -0.272614  "
      ]
     },
     "execution_count": 49,
     "metadata": {},
     "output_type": "execute_result"
    }
   ],
   "source": [
    "df.head()"
   ]
  },
  {
   "cell_type": "code",
   "execution_count": 50,
   "id": "5ef54624",
   "metadata": {},
   "outputs": [
    {
     "data": {
      "text/plain": [
       "primary_fuel          -0.589967\n",
       "longitude             -0.008331\n",
       "latitude               0.073821\n",
       "name                   0.095939\n",
       "generation_gwh_2014    0.695876\n",
       "generation_gwh_2018    0.763913\n",
       "generation_gwh_2015    0.783925\n",
       "generation_gwh_2017    0.786513\n",
       "generation_gwh_2016    0.800794\n",
       "capacity_mw            1.000000\n",
       "Name: capacity_mw, dtype: float64"
      ]
     },
     "execution_count": 50,
     "metadata": {},
     "output_type": "execute_result"
    }
   ],
   "source": [
    "df.corr()['capacity_mw'].sort_values(ascending = True)"
   ]
  },
  {
   "cell_type": "code",
   "execution_count": 51,
   "id": "a797228a",
   "metadata": {},
   "outputs": [],
   "source": [
    "from statsmodels.stats.outliers_influence import variance_inflation_factor\n",
    "vif = variance_inflation_factor"
   ]
  },
  {
   "cell_type": "code",
   "execution_count": 52,
   "id": "1d4b5fa6",
   "metadata": {},
   "outputs": [],
   "source": [
    "v = df.drop('capacity_mw',axis=1)"
   ]
  },
  {
   "cell_type": "code",
   "execution_count": 53,
   "id": "590621cc",
   "metadata": {},
   "outputs": [],
   "source": [
    "vif_data=pd.DataFrame()\n",
    "vif_data['Feature']=v.columns"
   ]
  },
  {
   "cell_type": "code",
   "execution_count": 54,
   "id": "f345b65a",
   "metadata": {},
   "outputs": [
    {
     "name": "stdout",
     "output_type": "stream",
     "text": [
      "               Feature        VIF\n",
      "0                 name   1.035134\n",
      "1             latitude   1.092000\n",
      "2            longitude   1.055244\n",
      "3         primary_fuel   1.515122\n",
      "4  generation_gwh_2014   4.279655\n",
      "5  generation_gwh_2015   9.678022\n",
      "6  generation_gwh_2016  19.547434\n",
      "7  generation_gwh_2017  25.810986\n",
      "8  generation_gwh_2018  14.108088\n"
     ]
    }
   ],
   "source": [
    "vif_data['VIF']=[variance_inflation_factor(v.values,i)\n",
    "                    for i in range(len(v.columns))]\n",
    "    \n",
    "print(vif_data)"
   ]
  },
  {
   "cell_type": "markdown",
   "id": "7fed6ba0",
   "metadata": {},
   "source": [
    "Model Selection"
   ]
  },
  {
   "cell_type": "code",
   "execution_count": 55,
   "id": "fad8f12b",
   "metadata": {},
   "outputs": [
    {
     "name": "stdout",
     "output_type": "stream",
     "text": [
      "features shape (385, 9) \n",
      "Label Shape (385,)\n"
     ]
    }
   ],
   "source": [
    "x = df.drop('capacity_mw' ,axis =1)\n",
    "y = df['capacity_mw']\n",
    "\n",
    "print('features shape',x.shape,'\\n' 'Label Shape',y.shape)"
   ]
  },
  {
   "cell_type": "code",
   "execution_count": 56,
   "id": "7af9f68a",
   "metadata": {},
   "outputs": [],
   "source": [
    "x_train,x_test,y_train,y_test = train_test_split(x,y,train_size=0.70)"
   ]
  },
  {
   "cell_type": "markdown",
   "id": "f1c41ac6",
   "metadata": {},
   "source": [
    "Linear Regression"
   ]
  },
  {
   "cell_type": "code",
   "execution_count": 57,
   "id": "288e5156",
   "metadata": {},
   "outputs": [
    {
     "data": {
      "text/plain": [
       "-0.3357769581358376"
      ]
     },
     "execution_count": 57,
     "metadata": {},
     "output_type": "execute_result"
    }
   ],
   "source": [
    "Lr = LinearRegression()\n",
    "Lr_score = cross_val_score(Lr, x_train , y_train ,cv = 7 ,scoring = 'neg_mean_squared_error')\n",
    "Lr_score.mean()"
   ]
  },
  {
   "cell_type": "markdown",
   "id": "eb06cbf9",
   "metadata": {},
   "source": [
    "Random Forest Regressor"
   ]
  },
  {
   "cell_type": "code",
   "execution_count": 58,
   "id": "4eca580d",
   "metadata": {},
   "outputs": [
    {
     "data": {
      "text/plain": [
       "-0.1453566265130653"
      ]
     },
     "execution_count": 58,
     "metadata": {},
     "output_type": "execute_result"
    }
   ],
   "source": [
    "Rf = RandomForestRegressor()\n",
    "Rf_score = cross_val_score(Rf, x_train , y_train ,cv = 7 ,scoring = 'neg_mean_squared_error')\n",
    "Rf_score.mean()"
   ]
  },
  {
   "cell_type": "markdown",
   "id": "233d231b",
   "metadata": {},
   "source": [
    "Support Vector Regressor"
   ]
  },
  {
   "cell_type": "code",
   "execution_count": 59,
   "id": "8053b1ff",
   "metadata": {},
   "outputs": [
    {
     "data": {
      "text/plain": [
       "-0.15430376949217228"
      ]
     },
     "execution_count": 59,
     "metadata": {},
     "output_type": "execute_result"
    }
   ],
   "source": [
    "svr=SVR()\n",
    "svr_score = cross_val_score(svr, x_train , y_train ,cv = 7 ,scoring = 'neg_mean_squared_error')\n",
    "svr_score.mean()"
   ]
  },
  {
   "cell_type": "markdown",
   "id": "88344839",
   "metadata": {},
   "source": [
    "Decision Tree Regressor"
   ]
  },
  {
   "cell_type": "code",
   "execution_count": 60,
   "id": "e0afd1de",
   "metadata": {},
   "outputs": [
    {
     "data": {
      "text/plain": [
       "-0.24978867856782946"
      ]
     },
     "execution_count": 60,
     "metadata": {},
     "output_type": "execute_result"
    }
   ],
   "source": [
    "Dt = DecisionTreeRegressor()\n",
    "Dt_score = cross_val_score(Dt, x_train , y_train ,cv = 7 ,scoring = 'neg_mean_squared_error')\n",
    "Dt_score.mean()"
   ]
  },
  {
   "cell_type": "markdown",
   "id": "f3060912",
   "metadata": {},
   "source": [
    "K Neighbors Regressor"
   ]
  },
  {
   "cell_type": "code",
   "execution_count": 61,
   "id": "a601aaec",
   "metadata": {},
   "outputs": [
    {
     "data": {
      "text/plain": [
       "-0.2361037428725892"
      ]
     },
     "execution_count": 61,
     "metadata": {},
     "output_type": "execute_result"
    }
   ],
   "source": [
    "Knn = KNeighborsRegressor()\n",
    "Knn_score = cross_val_score(Knn, x_train , y_train ,cv = 7 ,scoring = 'neg_mean_squared_error')\n",
    "Knn_score.mean()"
   ]
  },
  {
   "cell_type": "markdown",
   "id": "d3b0fd76",
   "metadata": {},
   "source": [
    "We observed minimum negative mean squared error for Random Forest Regressor, We will hypertune this model"
   ]
  },
  {
   "cell_type": "code",
   "execution_count": 62,
   "id": "c775dd55",
   "metadata": {},
   "outputs": [],
   "source": [
    "param = {\"n_estimators\"      : [10,20,30],\n",
    "            \"max_features\"      : [\"auto\", \"sqrt\", \"log2\"],\n",
    "            \"min_samples_split\" : [2,4,8],\n",
    "            \"bootstrap\": [True, False],\n",
    "         }"
   ]
  },
  {
   "cell_type": "code",
   "execution_count": 63,
   "id": "dad0a29c",
   "metadata": {},
   "outputs": [
    {
     "data": {
      "text/plain": [
       "{'bootstrap': False,\n",
       " 'max_features': 'log2',\n",
       " 'min_samples_split': 4,\n",
       " 'n_estimators': 30}"
      ]
     },
     "execution_count": 63,
     "metadata": {},
     "output_type": "execute_result"
    }
   ],
   "source": [
    "hypt = gcv(Rf, param, cv=7)\n",
    "\n",
    "hypt.fit(x_train,y_train)\n",
    "\n",
    "hypt.best_params_"
   ]
  },
  {
   "cell_type": "markdown",
   "id": "cdf06714",
   "metadata": {},
   "source": [
    "We will now Train the Random Forest Model"
   ]
  },
  {
   "cell_type": "markdown",
   "id": "ce56bb25",
   "metadata": {},
   "source": [
    "# Random Forest Regressor"
   ]
  },
  {
   "cell_type": "code",
   "execution_count": 64,
   "id": "c3768e95",
   "metadata": {},
   "outputs": [],
   "source": [
    "Rf = RandomForestRegressor(n_estimators=20, min_samples_split=4, max_features= 'log2', bootstrap=True)"
   ]
  },
  {
   "cell_type": "code",
   "execution_count": 65,
   "id": "8d4449d1",
   "metadata": {},
   "outputs": [
    {
     "name": "stdout",
     "output_type": "stream",
     "text": [
      "Testing Max Score 0.9186791759035952 Max Random State 145\n"
     ]
    }
   ],
   "source": [
    "maxr2 = 0\n",
    "maxRS = 0\n",
    "\n",
    "for i in range(1,200):\n",
    "    x_train,x_test,y_train,y_test = train_test_split(x,y,train_size=0.70, random_state=i)\n",
    "    Rf.fit(x_train,y_train)\n",
    "    y_pred_test = Rf.predict(x_test)\n",
    "    y_pred_train = Rf.predict(x_train)\n",
    "    scr_test=r2(y_test, y_pred_test)\n",
    "    scr_train=r2(y_train, y_pred_train)\n",
    "    #print('accuracy', acc, 'random state',i)\n",
    "    \n",
    "    \n",
    "    if scr_test>maxr2:\n",
    "        maxr2 = scr_test\n",
    "        maxRS = i\n",
    "print('Testing Max Score', maxr2, 'Max Random State', maxRS)\n"
   ]
  },
  {
   "cell_type": "code",
   "execution_count": 66,
   "id": "4bcc1f52",
   "metadata": {},
   "outputs": [
    {
     "data": {
      "image/png": "[encoded data removed]",
      "text/plain": [
       "<Figure size 432x288 with 1 Axes>"
      ]
     },
     "metadata": {
      "needs_background": "light"
     },
     "output_type": "display_data"
    }
   ],
   "source": [
    "plt.scatter(y_test, y_pred_test)\n",
    "plt.xlabel('test value')\n",
    "plt.ylabel('predicted test value')\n",
    "plt.title(\"Actual vs Predicted\")\n",
    "plt.show()"
   ]
  },
  {
   "cell_type": "markdown",
   "id": "e8b2e158",
   "metadata": {},
   "source": [
    "We can see linear relation between testing and predicted values with 90 % accuracy"
   ]
  },
  {
   "cell_type": "markdown",
   "id": "80872070",
   "metadata": {},
   "source": [
    "# Model Evaluation"
   ]
  },
  {
   "cell_type": "markdown",
   "id": "990ab229",
   "metadata": {},
   "source": [
    "Testing Errors"
   ]
  },
  {
   "cell_type": "code",
   "execution_count": 67,
   "id": "8151ef27",
   "metadata": {},
   "outputs": [],
   "source": [
    "from sklearn.metrics import mean_absolute_error, mean_squared_error"
   ]
  },
  {
   "cell_type": "code",
   "execution_count": 68,
   "id": "4351d7bd",
   "metadata": {},
   "outputs": [
    {
     "data": {
      "text/plain": [
       "0.268548317866432"
      ]
     },
     "execution_count": 68,
     "metadata": {},
     "output_type": "execute_result"
    }
   ],
   "source": [
    "mean_absolute_error(y_test, y_pred_test)"
   ]
  },
  {
   "cell_type": "code",
   "execution_count": 69,
   "id": "0ad7c348",
   "metadata": {},
   "outputs": [
    {
     "data": {
      "text/plain": [
       "0.14246876893713"
      ]
     },
     "execution_count": 69,
     "metadata": {},
     "output_type": "execute_result"
    }
   ],
   "source": [
    "mean_squared_error(y_test, y_pred_test)"
   ]
  },
  {
   "cell_type": "code",
   "execution_count": 70,
   "id": "848b41be",
   "metadata": {},
   "outputs": [
    {
     "data": {
      "text/plain": [
       "0.3774503529434434"
      ]
     },
     "execution_count": 70,
     "metadata": {},
     "output_type": "execute_result"
    }
   ],
   "source": [
    "np.sqrt(mean_squared_error(y_test, y_pred_test))"
   ]
  },
  {
   "cell_type": "markdown",
   "id": "f4288bce",
   "metadata": {},
   "source": [
    "Training Errors"
   ]
  },
  {
   "cell_type": "code",
   "execution_count": 71,
   "id": "8b9dfa5a",
   "metadata": {},
   "outputs": [
    {
     "data": {
      "text/plain": [
       "0.1280411329136207"
      ]
     },
     "execution_count": 71,
     "metadata": {},
     "output_type": "execute_result"
    }
   ],
   "source": [
    "mean_absolute_error(y_train, y_pred_train)"
   ]
  },
  {
   "cell_type": "code",
   "execution_count": 72,
   "id": "a6f019e1",
   "metadata": {},
   "outputs": [
    {
     "data": {
      "text/plain": [
       "0.02972692838673626"
      ]
     },
     "execution_count": 72,
     "metadata": {},
     "output_type": "execute_result"
    }
   ],
   "source": [
    "mean_squared_error(y_train, y_pred_train)"
   ]
  },
  {
   "cell_type": "code",
   "execution_count": 73,
   "id": "2a2383cb",
   "metadata": {},
   "outputs": [
    {
     "data": {
      "text/plain": [
       "0.17241498886911272"
      ]
     },
     "execution_count": 73,
     "metadata": {},
     "output_type": "execute_result"
    }
   ],
   "source": [
    "np.sqrt(mean_squared_error(y_train, y_pred_train))"
   ]
  },
  {
   "cell_type": "markdown",
   "id": "6b4027aa",
   "metadata": {},
   "source": [
    "# Regularization"
   ]
  },
  {
   "cell_type": "code",
   "execution_count": 74,
   "id": "9ba05189",
   "metadata": {},
   "outputs": [],
   "source": [
    "from sklearn.linear_model import Lasso, LassoCV"
   ]
  },
  {
   "cell_type": "code",
   "execution_count": 75,
   "id": "ea743e4f",
   "metadata": {},
   "outputs": [
    {
     "data": {
      "text/html": [
       "<style>#sk-container-id-1 {color: black;background-color: white;}#sk-container-id-1 pre{padding: 0;}#sk-container-id-1 div.sk-toggleable {background-color: white;}#sk-container-id-1 label.sk-toggleable__label {cursor: pointer;display: block;width: 100%;margin-bottom: 0;padding: 0.3em;box-sizing: border-box;text-align: center;}#sk-container-id-1 label.sk-toggleable__label-arrow:before {content: \"▸\";float: left;margin-right: 0.25em;color: #696969;}#sk-container-id-1 label.sk-toggleable__label-arrow:hover:before {color: black;}#sk-container-id-1 div.sk-estimator:hover label.sk-toggleable__label-arrow:before {color: black;}#sk-container-id-1 div.sk-toggleable__content {max-height: 0;max-width: 0;overflow: hidden;text-align: left;background-color: #f0f8ff;}#sk-container-id-1 div.sk-toggleable__content pre {margin: 0.2em;color: black;border-radius: 0.25em;background-color: #f0f8ff;}#sk-container-id-1 input.sk-toggleable__control:checked~div.sk-toggleable__content {max-height: 200px;max-width: 100%;overflow: auto;}#sk-container-id-1 input.sk-toggleable__control:checked~label.sk-toggleable__label-arrow:before {content: \"▾\";}#sk-container-id-1 div.sk-estimator input.sk-toggleable__control:checked~label.sk-toggleable__label {background-color: #d4ebff;}#sk-container-id-1 div.sk-label input.sk-toggleable__control:checked~label.sk-toggleable__label {background-color: #d4ebff;}#sk-container-id-1 input.sk-hidden--visually {border: 0;clip: rect(1px 1px 1px 1px);clip: rect(1px, 1px, 1px, 1px);height: 1px;margin: -1px;overflow: hidden;padding: 0;position: absolute;width: 1px;}#sk-container-id-1 div.sk-estimator {font-family: monospace;background-color: #f0f8ff;border: 1px dotted black;border-radius: 0.25em;box-sizing: border-box;margin-bottom: 0.5em;}#sk-container-id-1 div.sk-estimator:hover {background-color: #d4ebff;}#sk-container-id-1 div.sk-parallel-item::after {content: \"\";width: 100%;border-bottom: 1px solid gray;flex-grow: 1;}#sk-container-id-1 div.sk-label:hover label.sk-toggleable__label {background-color: #d4ebff;}#sk-container-id-1 div.sk-serial::before {content: \"\";position: absolute;border-left: 1px solid gray;box-sizing: border-box;top: 0;bottom: 0;left: 50%;z-index: 0;}#sk-container-id-1 div.sk-serial {display: flex;flex-direction: column;align-items: center;background-color: white;padding-right: 0.2em;padding-left: 0.2em;position: relative;}#sk-container-id-1 div.sk-item {position: relative;z-index: 1;}#sk-container-id-1 div.sk-parallel {display: flex;align-items: stretch;justify-content: center;background-color: white;position: relative;}#sk-container-id-1 div.sk-item::before, #sk-container-id-1 div.sk-parallel-item::before {content: \"\";position: absolute;border-left: 1px solid gray;box-sizing: border-box;top: 0;bottom: 0;left: 50%;z-index: -1;}#sk-container-id-1 div.sk-parallel-item {display: flex;flex-direction: column;z-index: 1;position: relative;background-color: white;}#sk-container-id-1 div.sk-parallel-item:first-child::after {align-self: flex-end;width: 50%;}#sk-container-id-1 div.sk-parallel-item:last-child::after {align-self: flex-start;width: 50%;}#sk-container-id-1 div.sk-parallel-item:only-child::after {width: 0;}#sk-container-id-1 div.sk-dashed-wrapped {border: 1px dashed gray;margin: 0 0.4em 0.5em 0.4em;box-sizing: border-box;padding-bottom: 0.4em;background-color: white;}#sk-container-id-1 div.sk-label label {font-family: monospace;font-weight: bold;display: inline-block;line-height: 1.2em;}#sk-container-id-1 div.sk-label-container {text-align: center;}#sk-container-id-1 div.sk-container {/* jupyter's `normalize.less` sets `[hidden] { display: none; }` but bootstrap.min.css set `[hidden] { display: none !important; }` so we also need the `!important` here to be able to override the default hidden behavior on the sphinx rendered scikit-learn.org. See: https://github.com/scikit-learn/scikit-learn/issues/21755 */display: inline-block !important;position: relative;}#sk-container-id-1 div.sk-text-repr-fallback {display: none;}</style><div id=\"sk-container-id-1\" class=\"sk-top-container\"><div class=\"sk-text-repr-fallback\"><pre>LassoCV(max_iter=99999, normalize=True)</pre><b>In a Jupyter environment, please rerun this cell to show the HTML representation or trust the notebook. <br />On GitHub, the HTML representation is unable to render, please try loading this page with nbviewer.org.</b></div><div class=\"sk-container\" hidden><div class=\"sk-item\"><div class=\"sk-estimator sk-toggleable\"><input class=\"sk-toggleable__control sk-hidden--visually\" id=\"sk-estimator-id-1\" type=\"checkbox\" checked><label for=\"sk-estimator-id-1\" class=\"sk-toggleable__label sk-toggleable__label-arrow\">LassoCV</label><div class=\"sk-toggleable__content\"><pre>LassoCV(max_iter=99999, normalize=True)</pre></div></div></div></div></div>"
      ],
      "text/plain": [
       "LassoCV(max_iter=99999, normalize=True)"
      ]
     },
     "execution_count": 75,
     "metadata": {},
     "output_type": "execute_result"
    }
   ],
   "source": [
    "lasscv = LassoCV(alphas=None, max_iter=99999, normalize=True)\n",
    "a = lasscv.fit(x_train, y_train)\n",
    "a"
   ]
  },
  {
   "cell_type": "code",
   "execution_count": 76,
   "id": "07e74edc",
   "metadata": {},
   "outputs": [
    {
     "data": {
      "text/plain": [
       "0.0008879149908388272"
      ]
     },
     "execution_count": 76,
     "metadata": {},
     "output_type": "execute_result"
    }
   ],
   "source": [
    "alpha = a.alpha_\n",
    "alpha"
   ]
  },
  {
   "cell_type": "code",
   "execution_count": 77,
   "id": "164d3fa9",
   "metadata": {},
   "outputs": [
    {
     "data": {
      "text/html": [
       "<style>#sk-container-id-2 {color: black;background-color: white;}#sk-container-id-2 pre{padding: 0;}#sk-container-id-2 div.sk-toggleable {background-color: white;}#sk-container-id-2 label.sk-toggleable__label {cursor: pointer;display: block;width: 100%;margin-bottom: 0;padding: 0.3em;box-sizing: border-box;text-align: center;}#sk-container-id-2 label.sk-toggleable__label-arrow:before {content: \"▸\";float: left;margin-right: 0.25em;color: #696969;}#sk-container-id-2 label.sk-toggleable__label-arrow:hover:before {color: black;}#sk-container-id-2 div.sk-estimator:hover label.sk-toggleable__label-arrow:before {color: black;}#sk-container-id-2 div.sk-toggleable__content {max-height: 0;max-width: 0;overflow: hidden;text-align: left;background-color: #f0f8ff;}#sk-container-id-2 div.sk-toggleable__content pre {margin: 0.2em;color: black;border-radius: 0.25em;background-color: #f0f8ff;}#sk-container-id-2 input.sk-toggleable__control:checked~div.sk-toggleable__content {max-height: 200px;max-width: 100%;overflow: auto;}#sk-container-id-2 input.sk-toggleable__control:checked~label.sk-toggleable__label-arrow:before {content: \"▾\";}#sk-container-id-2 div.sk-estimator input.sk-toggleable__control:checked~label.sk-toggleable__label {background-color: #d4ebff;}#sk-container-id-2 div.sk-label input.sk-toggleable__control:checked~label.sk-toggleable__label {background-color: #d4ebff;}#sk-container-id-2 input.sk-hidden--visually {border: 0;clip: rect(1px 1px 1px 1px);clip: rect(1px, 1px, 1px, 1px);height: 1px;margin: -1px;overflow: hidden;padding: 0;position: absolute;width: 1px;}#sk-container-id-2 div.sk-estimator {font-family: monospace;background-color: #f0f8ff;border: 1px dotted black;border-radius: 0.25em;box-sizing: border-box;margin-bottom: 0.5em;}#sk-container-id-2 div.sk-estimator:hover {background-color: #d4ebff;}#sk-container-id-2 div.sk-parallel-item::after {content: \"\";width: 100%;border-bottom: 1px solid gray;flex-grow: 1;}#sk-container-id-2 div.sk-label:hover label.sk-toggleable__label {background-color: #d4ebff;}#sk-container-id-2 div.sk-serial::before {content: \"\";position: absolute;border-left: 1px solid gray;box-sizing: border-box;top: 0;bottom: 0;left: 50%;z-index: 0;}#sk-container-id-2 div.sk-serial {display: flex;flex-direction: column;align-items: center;background-color: white;padding-right: 0.2em;padding-left: 0.2em;position: relative;}#sk-container-id-2 div.sk-item {position: relative;z-index: 1;}#sk-container-id-2 div.sk-parallel {display: flex;align-items: stretch;justify-content: center;background-color: white;position: relative;}#sk-container-id-2 div.sk-item::before, #sk-container-id-2 div.sk-parallel-item::before {content: \"\";position: absolute;border-left: 1px solid gray;box-sizing: border-box;top: 0;bottom: 0;left: 50%;z-index: -1;}#sk-container-id-2 div.sk-parallel-item {display: flex;flex-direction: column;z-index: 1;position: relative;background-color: white;}#sk-container-id-2 div.sk-parallel-item:first-child::after {align-self: flex-end;width: 50%;}#sk-container-id-2 div.sk-parallel-item:last-child::after {align-self: flex-start;width: 50%;}#sk-container-id-2 div.sk-parallel-item:only-child::after {width: 0;}#sk-container-id-2 div.sk-dashed-wrapped {border: 1px dashed gray;margin: 0 0.4em 0.5em 0.4em;box-sizing: border-box;padding-bottom: 0.4em;background-color: white;}#sk-container-id-2 div.sk-label label {font-family: monospace;font-weight: bold;display: inline-block;line-height: 1.2em;}#sk-container-id-2 div.sk-label-container {text-align: center;}#sk-container-id-2 div.sk-container {/* jupyter's `normalize.less` sets `[hidden] { display: none; }` but bootstrap.min.css set `[hidden] { display: none !important; }` so we also need the `!important` here to be able to override the default hidden behavior on the sphinx rendered scikit-learn.org. See: https://github.com/scikit-learn/scikit-learn/issues/21755 */display: inline-block !important;position: relative;}#sk-container-id-2 div.sk-text-repr-fallback {display: none;}</style><div id=\"sk-container-id-2\" class=\"sk-top-container\"><div class=\"sk-text-repr-fallback\"><pre>Lasso(alpha=0.0008879149908388272)</pre><b>In a Jupyter environment, please rerun this cell to show the HTML representation or trust the notebook. <br />On GitHub, the HTML representation is unable to render, please try loading this page with nbviewer.org.</b></div><div class=\"sk-container\" hidden><div class=\"sk-item\"><div class=\"sk-estimator sk-toggleable\"><input class=\"sk-toggleable__control sk-hidden--visually\" id=\"sk-estimator-id-2\" type=\"checkbox\" checked><label for=\"sk-estimator-id-2\" class=\"sk-toggleable__label sk-toggleable__label-arrow\">Lasso</label><div class=\"sk-toggleable__content\"><pre>Lasso(alpha=0.0008879149908388272)</pre></div></div></div></div></div>"
      ],
      "text/plain": [
       "Lasso(alpha=0.0008879149908388272)"
      ]
     },
     "execution_count": 77,
     "metadata": {},
     "output_type": "execute_result"
    }
   ],
   "source": [
    "lasso_reg = Lasso(alpha)\n",
    "lasso_reg.fit(x_train, y_train)"
   ]
  },
  {
   "cell_type": "code",
   "execution_count": 78,
   "id": "88abc3ff",
   "metadata": {},
   "outputs": [
    {
     "data": {
      "text/plain": [
       "0.6089222165861452"
      ]
     },
     "execution_count": 78,
     "metadata": {},
     "output_type": "execute_result"
    }
   ],
   "source": [
    "lasso_reg.score(x_test, y_test)"
   ]
  },
  {
   "cell_type": "markdown",
   "id": "f4f262af",
   "metadata": {},
   "source": [
    "As we can see there is no need of regularization because Random Forest is giving good score and data is not overfitted, We will save random forest model"
   ]
  },
  {
   "cell_type": "markdown",
   "id": "0b44cc09",
   "metadata": {},
   "source": [
    "# Saving the Model"
   ]
  },
  {
   "cell_type": "code",
   "execution_count": 79,
   "id": "8517ec6c",
   "metadata": {},
   "outputs": [],
   "source": [
    "import pickle"
   ]
  },
  {
   "cell_type": "code",
   "execution_count": 80,
   "id": "b9951105",
   "metadata": {},
   "outputs": [],
   "source": [
    "pickle.dump('Rf', open('Randomforest_model_for_capacity_mw', 'wb'))"
   ]
  },
  {
   "cell_type": "code",
   "execution_count": null,
   "id": "c0414836",
   "metadata": {},
   "outputs": [],
   "source": []
  },
  {
   "cell_type": "code",
   "execution_count": null,
   "id": "31678abf",
   "metadata": {},
   "outputs": [],
   "source": []
  }
 ],
 "metadata": {
  "kernelspec": {
   "display_name": "Python 3 (ipykernel)",
   "language": "python",
   "name": "python3"
  },
  "language_info": {
   "codemirror_mode": {
    "name": "ipython",
    "version": 3
   },
   "file_extension": ".py",
   "mimetype": "text/x-python",
   "name": "python",
   "nbconvert_exporter": "python",
   "pygments_lexer": "ipython3",
   "version": "3.9.7"
  },
  "latex_envs": {
   "LaTeX_envs_menu_present": true,
   "autoclose": false,
   "autocomplete": true,
   "bibliofile": "biblio.bib",
   "cite_by": "apalike",
   "current_citInitial": 1,
   "eqLabelWithNumbers": true,
   "eqNumInitial": 1,
   "hotkeys": {
    "equation": "Ctrl-E",
    "itemize": "Ctrl-I"
   },
   "labels_anchors": false,
   "latex_user_defs": false,
   "report_style_numbering": false,
   "user_envs_cfg": false
  }
 },
 "nbformat": 4,
 "nbformat_minor": 5
}
