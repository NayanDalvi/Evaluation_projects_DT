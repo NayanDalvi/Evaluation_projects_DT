{
 "cells": [
  {
   "cell_type": "code",
   "execution_count": 84,
   "id": "67df34bc",
   "metadata": {},
   "outputs": [],
   "source": [
    "import numpy as np\n",
    "import pandas as pd\n",
    "\n",
    "import matplotlib.pyplot as plt\n",
    "import seaborn as sns\n",
    "from sklearn.preprocessing import StandardScaler\n",
    "from pandas.plotting import scatter_matrix\n",
    "from sklearn.model_selection import cross_val_score\n",
    "from pandas.plotting import scatter_matrix\n",
    "from sklearn.preprocessing import LabelEncoder\n",
    "from sklearn.metrics import plot_roc_curve, auc\n",
    "from sklearn.model_selection import GridSearchCV\n",
    "from sklearn.model_selection import train_test_split\n",
    "\n",
    "from sklearn.linear_model import LogisticRegression\n",
    "from sklearn.ensemble import RandomForestClassifier\n",
    "from sklearn.svm import SVC\n",
    "from sklearn.tree import DecisionTreeClassifier\n",
    "from sklearn.neighbors import KNeighborsClassifier\n",
    "from sklearn.metrics import plot_roc_curve, auc\n",
    "from sklearn.metrics import confusion_matrix , accuracy_score ,classification_report\n",
    "\n",
    "import warnings\n",
    "warnings.filterwarnings('ignore')\n"
   ]
  },
  {
   "cell_type": "code",
   "execution_count": 85,
   "id": "b819d88f",
   "metadata": {},
   "outputs": [],
   "source": [
    "df = pd.read_csv('https://raw.githubusercontent.com/dsrscientist/dataset1/master/census_income.csv')"
   ]
  },
  {
   "cell_type": "code",
   "execution_count": 86,
   "id": "1b45b685",
   "metadata": {},
   "outputs": [
    {
     "data": {
      "text/html": [
       "<div>\n",
       "<style scoped>\n",
       "    .dataframe tbody tr th:only-of-type {\n",
       "        vertical-align: middle;\n",
       "    }\n",
       "\n",
       "    .dataframe tbody tr th {\n",
       "        vertical-align: top;\n",
       "    }\n",
       "\n",
       "    .dataframe thead th {\n",
       "        text-align: right;\n",
       "    }\n",
       "</style>\n",
       "<table border=\"1\" class=\"dataframe\">\n",
       "  <thead>\n",
       "    <tr style=\"text-align: right;\">\n",
       "      <th></th>\n",
       "      <th>Age</th>\n",
       "      <th>Workclass</th>\n",
       "      <th>Fnlwgt</th>\n",
       "      <th>Education</th>\n",
       "      <th>Education_num</th>\n",
       "      <th>Marital_status</th>\n",
       "      <th>Occupation</th>\n",
       "      <th>Relationship</th>\n",
       "      <th>Race</th>\n",
       "      <th>Sex</th>\n",
       "      <th>Capital_gain</th>\n",
       "      <th>Capital_loss</th>\n",
       "      <th>Hours_per_week</th>\n",
       "      <th>Native_country</th>\n",
       "      <th>Income</th>\n",
       "    </tr>\n",
       "  </thead>\n",
       "  <tbody>\n",
       "    <tr>\n",
       "      <th>0</th>\n",
       "      <td>50</td>\n",
       "      <td>Self-emp-not-inc</td>\n",
       "      <td>83311</td>\n",
       "      <td>Bachelors</td>\n",
       "      <td>13</td>\n",
       "      <td>Married-civ-spouse</td>\n",
       "      <td>Exec-managerial</td>\n",
       "      <td>Husband</td>\n",
       "      <td>White</td>\n",
       "      <td>Male</td>\n",
       "      <td>0</td>\n",
       "      <td>0</td>\n",
       "      <td>13</td>\n",
       "      <td>United-States</td>\n",
       "      <td>&lt;=50K</td>\n",
       "    </tr>\n",
       "    <tr>\n",
       "      <th>1</th>\n",
       "      <td>38</td>\n",
       "      <td>Private</td>\n",
       "      <td>215646</td>\n",
       "      <td>HS-grad</td>\n",
       "      <td>9</td>\n",
       "      <td>Divorced</td>\n",
       "      <td>Handlers-cleaners</td>\n",
       "      <td>Not-in-family</td>\n",
       "      <td>White</td>\n",
       "      <td>Male</td>\n",
       "      <td>0</td>\n",
       "      <td>0</td>\n",
       "      <td>40</td>\n",
       "      <td>United-States</td>\n",
       "      <td>&lt;=50K</td>\n",
       "    </tr>\n",
       "    <tr>\n",
       "      <th>2</th>\n",
       "      <td>53</td>\n",
       "      <td>Private</td>\n",
       "      <td>234721</td>\n",
       "      <td>11th</td>\n",
       "      <td>7</td>\n",
       "      <td>Married-civ-spouse</td>\n",
       "      <td>Handlers-cleaners</td>\n",
       "      <td>Husband</td>\n",
       "      <td>Black</td>\n",
       "      <td>Male</td>\n",
       "      <td>0</td>\n",
       "      <td>0</td>\n",
       "      <td>40</td>\n",
       "      <td>United-States</td>\n",
       "      <td>&lt;=50K</td>\n",
       "    </tr>\n",
       "    <tr>\n",
       "      <th>3</th>\n",
       "      <td>28</td>\n",
       "      <td>Private</td>\n",
       "      <td>338409</td>\n",
       "      <td>Bachelors</td>\n",
       "      <td>13</td>\n",
       "      <td>Married-civ-spouse</td>\n",
       "      <td>Prof-specialty</td>\n",
       "      <td>Wife</td>\n",
       "      <td>Black</td>\n",
       "      <td>Female</td>\n",
       "      <td>0</td>\n",
       "      <td>0</td>\n",
       "      <td>40</td>\n",
       "      <td>Cuba</td>\n",
       "      <td>&lt;=50K</td>\n",
       "    </tr>\n",
       "    <tr>\n",
       "      <th>4</th>\n",
       "      <td>37</td>\n",
       "      <td>Private</td>\n",
       "      <td>284582</td>\n",
       "      <td>Masters</td>\n",
       "      <td>14</td>\n",
       "      <td>Married-civ-spouse</td>\n",
       "      <td>Exec-managerial</td>\n",
       "      <td>Wife</td>\n",
       "      <td>White</td>\n",
       "      <td>Female</td>\n",
       "      <td>0</td>\n",
       "      <td>0</td>\n",
       "      <td>40</td>\n",
       "      <td>United-States</td>\n",
       "      <td>&lt;=50K</td>\n",
       "    </tr>\n",
       "  </tbody>\n",
       "</table>\n",
       "</div>"
      ],
      "text/plain": [
       "   Age          Workclass  Fnlwgt   Education  Education_num  \\\n",
       "0   50   Self-emp-not-inc   83311   Bachelors             13   \n",
       "1   38            Private  215646     HS-grad              9   \n",
       "2   53            Private  234721        11th              7   \n",
       "3   28            Private  338409   Bachelors             13   \n",
       "4   37            Private  284582     Masters             14   \n",
       "\n",
       "        Marital_status          Occupation    Relationship    Race      Sex  \\\n",
       "0   Married-civ-spouse     Exec-managerial         Husband   White     Male   \n",
       "1             Divorced   Handlers-cleaners   Not-in-family   White     Male   \n",
       "2   Married-civ-spouse   Handlers-cleaners         Husband   Black     Male   \n",
       "3   Married-civ-spouse      Prof-specialty            Wife   Black   Female   \n",
       "4   Married-civ-spouse     Exec-managerial            Wife   White   Female   \n",
       "\n",
       "   Capital_gain  Capital_loss  Hours_per_week  Native_country  Income  \n",
       "0             0             0              13   United-States   <=50K  \n",
       "1             0             0              40   United-States   <=50K  \n",
       "2             0             0              40   United-States   <=50K  \n",
       "3             0             0              40            Cuba   <=50K  \n",
       "4             0             0              40   United-States   <=50K  "
      ]
     },
     "execution_count": 86,
     "metadata": {},
     "output_type": "execute_result"
    }
   ],
   "source": [
    "df.head()"
   ]
  },
  {
   "cell_type": "code",
   "execution_count": 87,
   "id": "20109656",
   "metadata": {},
   "outputs": [
    {
     "data": {
      "text/plain": [
       "(32560, 15)"
      ]
     },
     "execution_count": 87,
     "metadata": {},
     "output_type": "execute_result"
    }
   ],
   "source": [
    "df.shape"
   ]
  },
  {
   "cell_type": "code",
   "execution_count": 88,
   "id": "acec2350",
   "metadata": {},
   "outputs": [
    {
     "data": {
      "text/plain": [
       "Age               0\n",
       "Workclass         0\n",
       "Fnlwgt            0\n",
       "Education         0\n",
       "Education_num     0\n",
       "Marital_status    0\n",
       "Occupation        0\n",
       "Relationship      0\n",
       "Race              0\n",
       "Sex               0\n",
       "Capital_gain      0\n",
       "Capital_loss      0\n",
       "Hours_per_week    0\n",
       "Native_country    0\n",
       "Income            0\n",
       "dtype: int64"
      ]
     },
     "execution_count": 88,
     "metadata": {},
     "output_type": "execute_result"
    }
   ],
   "source": [
    "df.isnull().sum()"
   ]
  },
  {
   "cell_type": "code",
   "execution_count": 89,
   "id": "3e118b14",
   "metadata": {},
   "outputs": [
    {
     "name": "stdout",
     "output_type": "stream",
     "text": [
      "<class 'pandas.core.frame.DataFrame'>\n",
      "RangeIndex: 32560 entries, 0 to 32559\n",
      "Data columns (total 15 columns):\n",
      " #   Column          Non-Null Count  Dtype \n",
      "---  ------          --------------  ----- \n",
      " 0   Age             32560 non-null  int64 \n",
      " 1   Workclass       32560 non-null  object\n",
      " 2   Fnlwgt          32560 non-null  int64 \n",
      " 3   Education       32560 non-null  object\n",
      " 4   Education_num   32560 non-null  int64 \n",
      " 5   Marital_status  32560 non-null  object\n",
      " 6   Occupation      32560 non-null  object\n",
      " 7   Relationship    32560 non-null  object\n",
      " 8   Race            32560 non-null  object\n",
      " 9   Sex             32560 non-null  object\n",
      " 10  Capital_gain    32560 non-null  int64 \n",
      " 11  Capital_loss    32560 non-null  int64 \n",
      " 12  Hours_per_week  32560 non-null  int64 \n",
      " 13  Native_country  32560 non-null  object\n",
      " 14  Income          32560 non-null  object\n",
      "dtypes: int64(6), object(9)\n",
      "memory usage: 3.7+ MB\n"
     ]
    }
   ],
   "source": [
    "df.info()"
   ]
  },
  {
   "cell_type": "markdown",
   "id": "5e691b2d",
   "metadata": {},
   "source": [
    "This dataset contains 1 target variable (Income) and 14 features out of which 9 column are objects and 6 are integer"
   ]
  },
  {
   "cell_type": "code",
   "execution_count": 90,
   "id": "4515a301",
   "metadata": {},
   "outputs": [
    {
     "data": {
      "text/html": [
       "<div>\n",
       "<style scoped>\n",
       "    .dataframe tbody tr th:only-of-type {\n",
       "        vertical-align: middle;\n",
       "    }\n",
       "\n",
       "    .dataframe tbody tr th {\n",
       "        vertical-align: top;\n",
       "    }\n",
       "\n",
       "    .dataframe thead th {\n",
       "        text-align: right;\n",
       "    }\n",
       "</style>\n",
       "<table border=\"1\" class=\"dataframe\">\n",
       "  <thead>\n",
       "    <tr style=\"text-align: right;\">\n",
       "      <th></th>\n",
       "      <th>Age</th>\n",
       "      <th>Fnlwgt</th>\n",
       "      <th>Education_num</th>\n",
       "      <th>Capital_gain</th>\n",
       "      <th>Capital_loss</th>\n",
       "      <th>Hours_per_week</th>\n",
       "    </tr>\n",
       "  </thead>\n",
       "  <tbody>\n",
       "    <tr>\n",
       "      <th>count</th>\n",
       "      <td>32560.000000</td>\n",
       "      <td>3.256000e+04</td>\n",
       "      <td>32560.000000</td>\n",
       "      <td>32560.000000</td>\n",
       "      <td>32560.000000</td>\n",
       "      <td>32560.000000</td>\n",
       "    </tr>\n",
       "    <tr>\n",
       "      <th>mean</th>\n",
       "      <td>38.581634</td>\n",
       "      <td>1.897818e+05</td>\n",
       "      <td>10.080590</td>\n",
       "      <td>1077.615172</td>\n",
       "      <td>87.306511</td>\n",
       "      <td>40.437469</td>\n",
       "    </tr>\n",
       "    <tr>\n",
       "      <th>std</th>\n",
       "      <td>13.640642</td>\n",
       "      <td>1.055498e+05</td>\n",
       "      <td>2.572709</td>\n",
       "      <td>7385.402999</td>\n",
       "      <td>402.966116</td>\n",
       "      <td>12.347618</td>\n",
       "    </tr>\n",
       "    <tr>\n",
       "      <th>min</th>\n",
       "      <td>17.000000</td>\n",
       "      <td>1.228500e+04</td>\n",
       "      <td>1.000000</td>\n",
       "      <td>0.000000</td>\n",
       "      <td>0.000000</td>\n",
       "      <td>1.000000</td>\n",
       "    </tr>\n",
       "    <tr>\n",
       "      <th>25%</th>\n",
       "      <td>28.000000</td>\n",
       "      <td>1.178315e+05</td>\n",
       "      <td>9.000000</td>\n",
       "      <td>0.000000</td>\n",
       "      <td>0.000000</td>\n",
       "      <td>40.000000</td>\n",
       "    </tr>\n",
       "    <tr>\n",
       "      <th>50%</th>\n",
       "      <td>37.000000</td>\n",
       "      <td>1.783630e+05</td>\n",
       "      <td>10.000000</td>\n",
       "      <td>0.000000</td>\n",
       "      <td>0.000000</td>\n",
       "      <td>40.000000</td>\n",
       "    </tr>\n",
       "    <tr>\n",
       "      <th>75%</th>\n",
       "      <td>48.000000</td>\n",
       "      <td>2.370545e+05</td>\n",
       "      <td>12.000000</td>\n",
       "      <td>0.000000</td>\n",
       "      <td>0.000000</td>\n",
       "      <td>45.000000</td>\n",
       "    </tr>\n",
       "    <tr>\n",
       "      <th>max</th>\n",
       "      <td>90.000000</td>\n",
       "      <td>1.484705e+06</td>\n",
       "      <td>16.000000</td>\n",
       "      <td>99999.000000</td>\n",
       "      <td>4356.000000</td>\n",
       "      <td>99.000000</td>\n",
       "    </tr>\n",
       "  </tbody>\n",
       "</table>\n",
       "</div>"
      ],
      "text/plain": [
       "                Age        Fnlwgt  Education_num  Capital_gain  Capital_loss  \\\n",
       "count  32560.000000  3.256000e+04   32560.000000  32560.000000  32560.000000   \n",
       "mean      38.581634  1.897818e+05      10.080590   1077.615172     87.306511   \n",
       "std       13.640642  1.055498e+05       2.572709   7385.402999    402.966116   \n",
       "min       17.000000  1.228500e+04       1.000000      0.000000      0.000000   \n",
       "25%       28.000000  1.178315e+05       9.000000      0.000000      0.000000   \n",
       "50%       37.000000  1.783630e+05      10.000000      0.000000      0.000000   \n",
       "75%       48.000000  2.370545e+05      12.000000      0.000000      0.000000   \n",
       "max       90.000000  1.484705e+06      16.000000  99999.000000   4356.000000   \n",
       "\n",
       "       Hours_per_week  \n",
       "count    32560.000000  \n",
       "mean        40.437469  \n",
       "std         12.347618  \n",
       "min          1.000000  \n",
       "25%         40.000000  \n",
       "50%         40.000000  \n",
       "75%         45.000000  \n",
       "max         99.000000  "
      ]
     },
     "execution_count": 90,
     "metadata": {},
     "output_type": "execute_result"
    }
   ],
   "source": [
    "df.describe()"
   ]
  },
  {
   "cell_type": "markdown",
   "id": "445be0ce",
   "metadata": {},
   "source": [
    "as we can see variation in mean we have to scale the data, in count row, we confirm there is no null"
   ]
  },
  {
   "cell_type": "code",
   "execution_count": 91,
   "id": "e361e0ae",
   "metadata": {},
   "outputs": [
    {
     "data": {
      "text/plain": [
       "24"
      ]
     },
     "execution_count": 91,
     "metadata": {},
     "output_type": "execute_result"
    }
   ],
   "source": [
    "df.duplicated().sum()"
   ]
  },
  {
   "cell_type": "code",
   "execution_count": 92,
   "id": "02f22cd5",
   "metadata": {},
   "outputs": [
    {
     "data": {
      "text/plain": [
       "Age               0\n",
       "Workclass         0\n",
       "Fnlwgt            0\n",
       "Education         0\n",
       "Education_num     0\n",
       "Marital_status    0\n",
       "Occupation        0\n",
       "Relationship      0\n",
       "Race              0\n",
       "Sex               0\n",
       "Capital_gain      0\n",
       "Capital_loss      0\n",
       "Hours_per_week    0\n",
       "Native_country    0\n",
       "Income            0\n",
       "dtype: int64"
      ]
     },
     "execution_count": 92,
     "metadata": {},
     "output_type": "execute_result"
    }
   ],
   "source": [
    "#checking any blank spaces\n",
    "df.eq(' ').sum()"
   ]
  },
  {
   "cell_type": "markdown",
   "id": "570bfa70",
   "metadata": {},
   "source": [
    "we have seen duplicate values, will check "
   ]
  },
  {
   "cell_type": "code",
   "execution_count": 93,
   "id": "6b123c69",
   "metadata": {},
   "outputs": [
    {
     "name": "stdout",
     "output_type": "stream",
     "text": [
      "Age [50 38 53 28 37 49 52 31 42 30 23 32 40 34 25 43 54 35 59 56 19 39 20 45\n",
      " 22 48 21 24 57 44 41 29 18 47 46 36 79 27 67 33 76 17 55 61 70 64 71 68\n",
      " 66 51 58 26 60 90 75 65 77 62 63 80 72 74 69 73 81 78 88 82 83 84 85 86\n",
      " 87] \n",
      "\n",
      "\n",
      "Workclass [' Self-emp-not-inc' ' Private' ' State-gov' ' Federal-gov' ' Local-gov'\n",
      " ' ?' ' Self-emp-inc' ' Without-pay' ' Never-worked'] \n",
      "\n",
      "\n",
      "Fnlwgt [ 83311 215646 234721 ...  34066  84661 257302] \n",
      "\n",
      "\n",
      "Education [' Bachelors' ' HS-grad' ' 11th' ' Masters' ' 9th' ' Some-college'\n",
      " ' Assoc-acdm' ' Assoc-voc' ' 7th-8th' ' Doctorate' ' Prof-school'\n",
      " ' 5th-6th' ' 10th' ' 1st-4th' ' Preschool' ' 12th'] \n",
      "\n",
      "\n",
      "Education_num [13  9  7 14  5 10 12 11  4 16 15  3  6  2  1  8] \n",
      "\n",
      "\n",
      "Marital_status [' Married-civ-spouse' ' Divorced' ' Married-spouse-absent'\n",
      " ' Never-married' ' Separated' ' Married-AF-spouse' ' Widowed'] \n",
      "\n",
      "\n",
      "Occupation [' Exec-managerial' ' Handlers-cleaners' ' Prof-specialty'\n",
      " ' Other-service' ' Adm-clerical' ' Sales' ' Craft-repair'\n",
      " ' Transport-moving' ' Farming-fishing' ' Machine-op-inspct'\n",
      " ' Tech-support' ' ?' ' Protective-serv' ' Armed-Forces'\n",
      " ' Priv-house-serv'] \n",
      "\n",
      "\n",
      "Relationship [' Husband' ' Not-in-family' ' Wife' ' Own-child' ' Unmarried'\n",
      " ' Other-relative'] \n",
      "\n",
      "\n",
      "Race [' White' ' Black' ' Asian-Pac-Islander' ' Amer-Indian-Eskimo' ' Other'] \n",
      "\n",
      "\n",
      "Sex [' Male' ' Female'] \n",
      "\n",
      "\n",
      "Capital_gain [    0 14084  5178  5013  2407 14344 15024  7688 34095  4064  4386  7298\n",
      "  1409  3674  1055  3464  2050  2176  2174   594 20051  6849  4101  1111\n",
      "  8614  3411  2597 25236  4650  9386  2463  3103 10605  2964  3325  2580\n",
      "  3471  4865 99999  6514  1471  2329  2105  2885 25124 10520  2202  2961\n",
      " 27828  6767  2228  1506 13550  2635  5556  4787  3781  3137  3818  3942\n",
      "   914   401  2829  2977  4934  2062  2354  5455 15020  1424  3273 22040\n",
      "  4416  3908 10566   991  4931  1086  7430  6497   114  7896  2346  3418\n",
      "  3432  2907  1151  2414  2290 15831 41310  4508  2538  3456  6418  1848\n",
      "  3887  5721  9562  1455  2036  1831 11678  2936  2993  7443  6360  1797\n",
      "  1173  4687  6723  2009  6097  2653  1639 18481  7978  2387  5060] \n",
      "\n",
      "\n",
      "Capital_loss [   0 2042 1408 1902 1573 1887 1719 1762 1564 2179 1816 1980 1977 1876\n",
      " 1340 2206 1741 1485 2339 2415 1380 1721 2051 2377 1669 2352 1672  653\n",
      " 2392 1504 2001 1590 1651 1628 1848 1740 2002 1579 2258 1602  419 2547\n",
      " 2174 2205 1726 2444 1138 2238  625  213 1539  880 1668 1092 1594 3004\n",
      " 2231 1844  810 2824 2559 2057 1974  974 2149 1825 1735 1258 2129 2603\n",
      " 2282  323 4356 2246 1617 1648 2489 3770 1755 3683 2267 2080 2457  155\n",
      " 3900 2201 1944 2467 2163 2754 2472 1411] \n",
      "\n",
      "\n",
      "Hours_per_week [13 40 16 45 50 80 30 35 60 20 52 44 15 25 38 43 55 48 58 32 70  2 22 56\n",
      " 41 28 36 24 46 42 12 65  1 10 34 75 98 33 54  8  6 64 19 18 72  5  9 47\n",
      " 37 21 26 14  4 59  7 99 53 39 62 57 78 90 66 11 49 84  3 17 68 27 85 31\n",
      " 51 77 63 23 87 88 73 89 97 94 29 96 67 82 86 91 81 76 92 61 74 95] \n",
      "\n",
      "\n",
      "Native_country [' United-States' ' Cuba' ' Jamaica' ' India' ' ?' ' Mexico' ' South'\n",
      " ' Puerto-Rico' ' Honduras' ' England' ' Canada' ' Germany' ' Iran'\n",
      " ' Philippines' ' Italy' ' Poland' ' Columbia' ' Cambodia' ' Thailand'\n",
      " ' Ecuador' ' Laos' ' Taiwan' ' Haiti' ' Portugal' ' Dominican-Republic'\n",
      " ' El-Salvador' ' France' ' Guatemala' ' China' ' Japan' ' Yugoslavia'\n",
      " ' Peru' ' Outlying-US(Guam-USVI-etc)' ' Scotland' ' Trinadad&Tobago'\n",
      " ' Greece' ' Nicaragua' ' Vietnam' ' Hong' ' Ireland' ' Hungary'\n",
      " ' Holand-Netherlands'] \n",
      "\n",
      "\n",
      "Income [' <=50K' ' >50K'] \n",
      "\n",
      "\n"
     ]
    }
   ],
   "source": [
    "for column in df:\n",
    "    print(column,  df[column].unique(), '\\n\\n')"
   ]
  },
  {
   "cell_type": "markdown",
   "id": "180ab195",
   "metadata": {},
   "source": [
    "we observed Question mark in ocupation and native country column"
   ]
  },
  {
   "cell_type": "code",
   "execution_count": 94,
   "id": "d1323ede",
   "metadata": {},
   "outputs": [
    {
     "data": {
      "text/html": [
       "<div>\n",
       "<style scoped>\n",
       "    .dataframe tbody tr th:only-of-type {\n",
       "        vertical-align: middle;\n",
       "    }\n",
       "\n",
       "    .dataframe tbody tr th {\n",
       "        vertical-align: top;\n",
       "    }\n",
       "\n",
       "    .dataframe thead th {\n",
       "        text-align: right;\n",
       "    }\n",
       "</style>\n",
       "<table border=\"1\" class=\"dataframe\">\n",
       "  <thead>\n",
       "    <tr style=\"text-align: right;\">\n",
       "      <th></th>\n",
       "      <th>Age</th>\n",
       "      <th>Workclass</th>\n",
       "      <th>Fnlwgt</th>\n",
       "      <th>Education</th>\n",
       "      <th>Education_num</th>\n",
       "      <th>Marital_status</th>\n",
       "      <th>Occupation</th>\n",
       "      <th>Relationship</th>\n",
       "      <th>Race</th>\n",
       "      <th>Sex</th>\n",
       "      <th>Capital_gain</th>\n",
       "      <th>Capital_loss</th>\n",
       "      <th>Hours_per_week</th>\n",
       "      <th>Native_country</th>\n",
       "      <th>Income</th>\n",
       "    </tr>\n",
       "  </thead>\n",
       "  <tbody>\n",
       "    <tr>\n",
       "      <th>13</th>\n",
       "      <td>40</td>\n",
       "      <td>Private</td>\n",
       "      <td>121772</td>\n",
       "      <td>Assoc-voc</td>\n",
       "      <td>11</td>\n",
       "      <td>Married-civ-spouse</td>\n",
       "      <td>Craft-repair</td>\n",
       "      <td>Husband</td>\n",
       "      <td>Asian-Pac-Islander</td>\n",
       "      <td>Male</td>\n",
       "      <td>0</td>\n",
       "      <td>0</td>\n",
       "      <td>40</td>\n",
       "      <td>?</td>\n",
       "      <td>&gt;50K</td>\n",
       "    </tr>\n",
       "    <tr>\n",
       "      <th>37</th>\n",
       "      <td>31</td>\n",
       "      <td>Private</td>\n",
       "      <td>84154</td>\n",
       "      <td>Some-college</td>\n",
       "      <td>10</td>\n",
       "      <td>Married-civ-spouse</td>\n",
       "      <td>Sales</td>\n",
       "      <td>Husband</td>\n",
       "      <td>White</td>\n",
       "      <td>Male</td>\n",
       "      <td>0</td>\n",
       "      <td>0</td>\n",
       "      <td>38</td>\n",
       "      <td>?</td>\n",
       "      <td>&gt;50K</td>\n",
       "    </tr>\n",
       "    <tr>\n",
       "      <th>50</th>\n",
       "      <td>18</td>\n",
       "      <td>Private</td>\n",
       "      <td>226956</td>\n",
       "      <td>HS-grad</td>\n",
       "      <td>9</td>\n",
       "      <td>Never-married</td>\n",
       "      <td>Other-service</td>\n",
       "      <td>Own-child</td>\n",
       "      <td>White</td>\n",
       "      <td>Female</td>\n",
       "      <td>0</td>\n",
       "      <td>0</td>\n",
       "      <td>30</td>\n",
       "      <td>?</td>\n",
       "      <td>&lt;=50K</td>\n",
       "    </tr>\n",
       "    <tr>\n",
       "      <th>60</th>\n",
       "      <td>32</td>\n",
       "      <td>?</td>\n",
       "      <td>293936</td>\n",
       "      <td>7th-8th</td>\n",
       "      <td>4</td>\n",
       "      <td>Married-spouse-absent</td>\n",
       "      <td>?</td>\n",
       "      <td>Not-in-family</td>\n",
       "      <td>White</td>\n",
       "      <td>Male</td>\n",
       "      <td>0</td>\n",
       "      <td>0</td>\n",
       "      <td>40</td>\n",
       "      <td>?</td>\n",
       "      <td>&lt;=50K</td>\n",
       "    </tr>\n",
       "    <tr>\n",
       "      <th>92</th>\n",
       "      <td>30</td>\n",
       "      <td>Private</td>\n",
       "      <td>117747</td>\n",
       "      <td>HS-grad</td>\n",
       "      <td>9</td>\n",
       "      <td>Married-civ-spouse</td>\n",
       "      <td>Sales</td>\n",
       "      <td>Wife</td>\n",
       "      <td>Asian-Pac-Islander</td>\n",
       "      <td>Female</td>\n",
       "      <td>0</td>\n",
       "      <td>1573</td>\n",
       "      <td>35</td>\n",
       "      <td>?</td>\n",
       "      <td>&lt;=50K</td>\n",
       "    </tr>\n",
       "    <tr>\n",
       "      <th>...</th>\n",
       "      <td>...</td>\n",
       "      <td>...</td>\n",
       "      <td>...</td>\n",
       "      <td>...</td>\n",
       "      <td>...</td>\n",
       "      <td>...</td>\n",
       "      <td>...</td>\n",
       "      <td>...</td>\n",
       "      <td>...</td>\n",
       "      <td>...</td>\n",
       "      <td>...</td>\n",
       "      <td>...</td>\n",
       "      <td>...</td>\n",
       "      <td>...</td>\n",
       "      <td>...</td>\n",
       "    </tr>\n",
       "    <tr>\n",
       "      <th>32448</th>\n",
       "      <td>44</td>\n",
       "      <td>Self-emp-inc</td>\n",
       "      <td>71556</td>\n",
       "      <td>Masters</td>\n",
       "      <td>14</td>\n",
       "      <td>Married-civ-spouse</td>\n",
       "      <td>Sales</td>\n",
       "      <td>Husband</td>\n",
       "      <td>White</td>\n",
       "      <td>Male</td>\n",
       "      <td>0</td>\n",
       "      <td>0</td>\n",
       "      <td>50</td>\n",
       "      <td>?</td>\n",
       "      <td>&gt;50K</td>\n",
       "    </tr>\n",
       "    <tr>\n",
       "      <th>32468</th>\n",
       "      <td>58</td>\n",
       "      <td>Self-emp-inc</td>\n",
       "      <td>181974</td>\n",
       "      <td>Doctorate</td>\n",
       "      <td>16</td>\n",
       "      <td>Never-married</td>\n",
       "      <td>Prof-specialty</td>\n",
       "      <td>Not-in-family</td>\n",
       "      <td>White</td>\n",
       "      <td>Female</td>\n",
       "      <td>0</td>\n",
       "      <td>0</td>\n",
       "      <td>99</td>\n",
       "      <td>?</td>\n",
       "      <td>&lt;=50K</td>\n",
       "    </tr>\n",
       "    <tr>\n",
       "      <th>32491</th>\n",
       "      <td>42</td>\n",
       "      <td>Self-emp-not-inc</td>\n",
       "      <td>217597</td>\n",
       "      <td>HS-grad</td>\n",
       "      <td>9</td>\n",
       "      <td>Divorced</td>\n",
       "      <td>Sales</td>\n",
       "      <td>Own-child</td>\n",
       "      <td>White</td>\n",
       "      <td>Male</td>\n",
       "      <td>0</td>\n",
       "      <td>0</td>\n",
       "      <td>50</td>\n",
       "      <td>?</td>\n",
       "      <td>&lt;=50K</td>\n",
       "    </tr>\n",
       "    <tr>\n",
       "      <th>32509</th>\n",
       "      <td>39</td>\n",
       "      <td>Private</td>\n",
       "      <td>107302</td>\n",
       "      <td>HS-grad</td>\n",
       "      <td>9</td>\n",
       "      <td>Married-civ-spouse</td>\n",
       "      <td>Prof-specialty</td>\n",
       "      <td>Husband</td>\n",
       "      <td>White</td>\n",
       "      <td>Male</td>\n",
       "      <td>0</td>\n",
       "      <td>0</td>\n",
       "      <td>45</td>\n",
       "      <td>?</td>\n",
       "      <td>&gt;50K</td>\n",
       "    </tr>\n",
       "    <tr>\n",
       "      <th>32524</th>\n",
       "      <td>81</td>\n",
       "      <td>?</td>\n",
       "      <td>120478</td>\n",
       "      <td>Assoc-voc</td>\n",
       "      <td>11</td>\n",
       "      <td>Divorced</td>\n",
       "      <td>?</td>\n",
       "      <td>Unmarried</td>\n",
       "      <td>White</td>\n",
       "      <td>Female</td>\n",
       "      <td>0</td>\n",
       "      <td>0</td>\n",
       "      <td>1</td>\n",
       "      <td>?</td>\n",
       "      <td>&lt;=50K</td>\n",
       "    </tr>\n",
       "  </tbody>\n",
       "</table>\n",
       "<p>583 rows × 15 columns</p>\n",
       "</div>"
      ],
      "text/plain": [
       "       Age          Workclass  Fnlwgt      Education  Education_num  \\\n",
       "13      40            Private  121772      Assoc-voc             11   \n",
       "37      31            Private   84154   Some-college             10   \n",
       "50      18            Private  226956        HS-grad              9   \n",
       "60      32                  ?  293936        7th-8th              4   \n",
       "92      30            Private  117747        HS-grad              9   \n",
       "...    ...                ...     ...            ...            ...   \n",
       "32448   44       Self-emp-inc   71556        Masters             14   \n",
       "32468   58       Self-emp-inc  181974      Doctorate             16   \n",
       "32491   42   Self-emp-not-inc  217597        HS-grad              9   \n",
       "32509   39            Private  107302        HS-grad              9   \n",
       "32524   81                  ?  120478      Assoc-voc             11   \n",
       "\n",
       "               Marital_status       Occupation    Relationship  \\\n",
       "13         Married-civ-spouse     Craft-repair         Husband   \n",
       "37         Married-civ-spouse            Sales         Husband   \n",
       "50              Never-married    Other-service       Own-child   \n",
       "60      Married-spouse-absent                ?   Not-in-family   \n",
       "92         Married-civ-spouse            Sales            Wife   \n",
       "...                       ...              ...             ...   \n",
       "32448      Married-civ-spouse            Sales         Husband   \n",
       "32468           Never-married   Prof-specialty   Not-in-family   \n",
       "32491                Divorced            Sales       Own-child   \n",
       "32509      Married-civ-spouse   Prof-specialty         Husband   \n",
       "32524                Divorced                ?       Unmarried   \n",
       "\n",
       "                      Race      Sex  Capital_gain  Capital_loss  \\\n",
       "13      Asian-Pac-Islander     Male             0             0   \n",
       "37                   White     Male             0             0   \n",
       "50                   White   Female             0             0   \n",
       "60                   White     Male             0             0   \n",
       "92      Asian-Pac-Islander   Female             0          1573   \n",
       "...                    ...      ...           ...           ...   \n",
       "32448                White     Male             0             0   \n",
       "32468                White   Female             0             0   \n",
       "32491                White     Male             0             0   \n",
       "32509                White     Male             0             0   \n",
       "32524                White   Female             0             0   \n",
       "\n",
       "       Hours_per_week Native_country  Income  \n",
       "13                 40              ?    >50K  \n",
       "37                 38              ?    >50K  \n",
       "50                 30              ?   <=50K  \n",
       "60                 40              ?   <=50K  \n",
       "92                 35              ?   <=50K  \n",
       "...               ...            ...     ...  \n",
       "32448              50              ?    >50K  \n",
       "32468              99              ?   <=50K  \n",
       "32491              50              ?   <=50K  \n",
       "32509              45              ?    >50K  \n",
       "32524               1              ?   <=50K  \n",
       "\n",
       "[583 rows x 15 columns]"
      ]
     },
     "execution_count": 94,
     "metadata": {},
     "output_type": "execute_result"
    }
   ],
   "source": [
    "df.loc[df.Native_country == ' ?']"
   ]
  },
  {
   "cell_type": "code",
   "execution_count": 95,
   "id": "2ce5db5a",
   "metadata": {},
   "outputs": [
    {
     "data": {
      "text/html": [
       "<div>\n",
       "<style scoped>\n",
       "    .dataframe tbody tr th:only-of-type {\n",
       "        vertical-align: middle;\n",
       "    }\n",
       "\n",
       "    .dataframe tbody tr th {\n",
       "        vertical-align: top;\n",
       "    }\n",
       "\n",
       "    .dataframe thead th {\n",
       "        text-align: right;\n",
       "    }\n",
       "</style>\n",
       "<table border=\"1\" class=\"dataframe\">\n",
       "  <thead>\n",
       "    <tr style=\"text-align: right;\">\n",
       "      <th></th>\n",
       "      <th>Age</th>\n",
       "      <th>Workclass</th>\n",
       "      <th>Fnlwgt</th>\n",
       "      <th>Education</th>\n",
       "      <th>Education_num</th>\n",
       "      <th>Marital_status</th>\n",
       "      <th>Occupation</th>\n",
       "      <th>Relationship</th>\n",
       "      <th>Race</th>\n",
       "      <th>Sex</th>\n",
       "      <th>Capital_gain</th>\n",
       "      <th>Capital_loss</th>\n",
       "      <th>Hours_per_week</th>\n",
       "      <th>Native_country</th>\n",
       "      <th>Income</th>\n",
       "    </tr>\n",
       "  </thead>\n",
       "  <tbody>\n",
       "    <tr>\n",
       "      <th>26</th>\n",
       "      <td>54</td>\n",
       "      <td>?</td>\n",
       "      <td>180211</td>\n",
       "      <td>Some-college</td>\n",
       "      <td>10</td>\n",
       "      <td>Married-civ-spouse</td>\n",
       "      <td>?</td>\n",
       "      <td>Husband</td>\n",
       "      <td>Asian-Pac-Islander</td>\n",
       "      <td>Male</td>\n",
       "      <td>0</td>\n",
       "      <td>0</td>\n",
       "      <td>60</td>\n",
       "      <td>South</td>\n",
       "      <td>&gt;50K</td>\n",
       "    </tr>\n",
       "    <tr>\n",
       "      <th>60</th>\n",
       "      <td>32</td>\n",
       "      <td>?</td>\n",
       "      <td>293936</td>\n",
       "      <td>7th-8th</td>\n",
       "      <td>4</td>\n",
       "      <td>Married-spouse-absent</td>\n",
       "      <td>?</td>\n",
       "      <td>Not-in-family</td>\n",
       "      <td>White</td>\n",
       "      <td>Male</td>\n",
       "      <td>0</td>\n",
       "      <td>0</td>\n",
       "      <td>40</td>\n",
       "      <td>?</td>\n",
       "      <td>&lt;=50K</td>\n",
       "    </tr>\n",
       "    <tr>\n",
       "      <th>68</th>\n",
       "      <td>25</td>\n",
       "      <td>?</td>\n",
       "      <td>200681</td>\n",
       "      <td>Some-college</td>\n",
       "      <td>10</td>\n",
       "      <td>Never-married</td>\n",
       "      <td>?</td>\n",
       "      <td>Own-child</td>\n",
       "      <td>White</td>\n",
       "      <td>Male</td>\n",
       "      <td>0</td>\n",
       "      <td>0</td>\n",
       "      <td>40</td>\n",
       "      <td>United-States</td>\n",
       "      <td>&lt;=50K</td>\n",
       "    </tr>\n",
       "    <tr>\n",
       "      <th>76</th>\n",
       "      <td>67</td>\n",
       "      <td>?</td>\n",
       "      <td>212759</td>\n",
       "      <td>10th</td>\n",
       "      <td>6</td>\n",
       "      <td>Married-civ-spouse</td>\n",
       "      <td>?</td>\n",
       "      <td>Husband</td>\n",
       "      <td>White</td>\n",
       "      <td>Male</td>\n",
       "      <td>0</td>\n",
       "      <td>0</td>\n",
       "      <td>2</td>\n",
       "      <td>United-States</td>\n",
       "      <td>&lt;=50K</td>\n",
       "    </tr>\n",
       "    <tr>\n",
       "      <th>105</th>\n",
       "      <td>17</td>\n",
       "      <td>?</td>\n",
       "      <td>304873</td>\n",
       "      <td>10th</td>\n",
       "      <td>6</td>\n",
       "      <td>Never-married</td>\n",
       "      <td>?</td>\n",
       "      <td>Own-child</td>\n",
       "      <td>White</td>\n",
       "      <td>Female</td>\n",
       "      <td>34095</td>\n",
       "      <td>0</td>\n",
       "      <td>32</td>\n",
       "      <td>United-States</td>\n",
       "      <td>&lt;=50K</td>\n",
       "    </tr>\n",
       "    <tr>\n",
       "      <th>...</th>\n",
       "      <td>...</td>\n",
       "      <td>...</td>\n",
       "      <td>...</td>\n",
       "      <td>...</td>\n",
       "      <td>...</td>\n",
       "      <td>...</td>\n",
       "      <td>...</td>\n",
       "      <td>...</td>\n",
       "      <td>...</td>\n",
       "      <td>...</td>\n",
       "      <td>...</td>\n",
       "      <td>...</td>\n",
       "      <td>...</td>\n",
       "      <td>...</td>\n",
       "      <td>...</td>\n",
       "    </tr>\n",
       "    <tr>\n",
       "      <th>32529</th>\n",
       "      <td>35</td>\n",
       "      <td>?</td>\n",
       "      <td>320084</td>\n",
       "      <td>Bachelors</td>\n",
       "      <td>13</td>\n",
       "      <td>Married-civ-spouse</td>\n",
       "      <td>?</td>\n",
       "      <td>Wife</td>\n",
       "      <td>White</td>\n",
       "      <td>Female</td>\n",
       "      <td>0</td>\n",
       "      <td>0</td>\n",
       "      <td>55</td>\n",
       "      <td>United-States</td>\n",
       "      <td>&gt;50K</td>\n",
       "    </tr>\n",
       "    <tr>\n",
       "      <th>32530</th>\n",
       "      <td>30</td>\n",
       "      <td>?</td>\n",
       "      <td>33811</td>\n",
       "      <td>Bachelors</td>\n",
       "      <td>13</td>\n",
       "      <td>Never-married</td>\n",
       "      <td>?</td>\n",
       "      <td>Not-in-family</td>\n",
       "      <td>Asian-Pac-Islander</td>\n",
       "      <td>Female</td>\n",
       "      <td>0</td>\n",
       "      <td>0</td>\n",
       "      <td>99</td>\n",
       "      <td>United-States</td>\n",
       "      <td>&lt;=50K</td>\n",
       "    </tr>\n",
       "    <tr>\n",
       "      <th>32538</th>\n",
       "      <td>71</td>\n",
       "      <td>?</td>\n",
       "      <td>287372</td>\n",
       "      <td>Doctorate</td>\n",
       "      <td>16</td>\n",
       "      <td>Married-civ-spouse</td>\n",
       "      <td>?</td>\n",
       "      <td>Husband</td>\n",
       "      <td>White</td>\n",
       "      <td>Male</td>\n",
       "      <td>0</td>\n",
       "      <td>0</td>\n",
       "      <td>10</td>\n",
       "      <td>United-States</td>\n",
       "      <td>&gt;50K</td>\n",
       "    </tr>\n",
       "    <tr>\n",
       "      <th>32540</th>\n",
       "      <td>41</td>\n",
       "      <td>?</td>\n",
       "      <td>202822</td>\n",
       "      <td>HS-grad</td>\n",
       "      <td>9</td>\n",
       "      <td>Separated</td>\n",
       "      <td>?</td>\n",
       "      <td>Not-in-family</td>\n",
       "      <td>Black</td>\n",
       "      <td>Female</td>\n",
       "      <td>0</td>\n",
       "      <td>0</td>\n",
       "      <td>32</td>\n",
       "      <td>United-States</td>\n",
       "      <td>&lt;=50K</td>\n",
       "    </tr>\n",
       "    <tr>\n",
       "      <th>32541</th>\n",
       "      <td>72</td>\n",
       "      <td>?</td>\n",
       "      <td>129912</td>\n",
       "      <td>HS-grad</td>\n",
       "      <td>9</td>\n",
       "      <td>Married-civ-spouse</td>\n",
       "      <td>?</td>\n",
       "      <td>Husband</td>\n",
       "      <td>White</td>\n",
       "      <td>Male</td>\n",
       "      <td>0</td>\n",
       "      <td>0</td>\n",
       "      <td>25</td>\n",
       "      <td>United-States</td>\n",
       "      <td>&lt;=50K</td>\n",
       "    </tr>\n",
       "  </tbody>\n",
       "</table>\n",
       "<p>1843 rows × 15 columns</p>\n",
       "</div>"
      ],
      "text/plain": [
       "       Age Workclass  Fnlwgt      Education  Education_num  \\\n",
       "26      54         ?  180211   Some-college             10   \n",
       "60      32         ?  293936        7th-8th              4   \n",
       "68      25         ?  200681   Some-college             10   \n",
       "76      67         ?  212759           10th              6   \n",
       "105     17         ?  304873           10th              6   \n",
       "...    ...       ...     ...            ...            ...   \n",
       "32529   35         ?  320084      Bachelors             13   \n",
       "32530   30         ?   33811      Bachelors             13   \n",
       "32538   71         ?  287372      Doctorate             16   \n",
       "32540   41         ?  202822        HS-grad              9   \n",
       "32541   72         ?  129912        HS-grad              9   \n",
       "\n",
       "               Marital_status Occupation    Relationship                 Race  \\\n",
       "26         Married-civ-spouse          ?         Husband   Asian-Pac-Islander   \n",
       "60      Married-spouse-absent          ?   Not-in-family                White   \n",
       "68              Never-married          ?       Own-child                White   \n",
       "76         Married-civ-spouse          ?         Husband                White   \n",
       "105             Never-married          ?       Own-child                White   \n",
       "...                       ...        ...             ...                  ...   \n",
       "32529      Married-civ-spouse          ?            Wife                White   \n",
       "32530           Never-married          ?   Not-in-family   Asian-Pac-Islander   \n",
       "32538      Married-civ-spouse          ?         Husband                White   \n",
       "32540               Separated          ?   Not-in-family                Black   \n",
       "32541      Married-civ-spouse          ?         Husband                White   \n",
       "\n",
       "           Sex  Capital_gain  Capital_loss  Hours_per_week  Native_country  \\\n",
       "26        Male             0             0              60           South   \n",
       "60        Male             0             0              40               ?   \n",
       "68        Male             0             0              40   United-States   \n",
       "76        Male             0             0               2   United-States   \n",
       "105     Female         34095             0              32   United-States   \n",
       "...        ...           ...           ...             ...             ...   \n",
       "32529   Female             0             0              55   United-States   \n",
       "32530   Female             0             0              99   United-States   \n",
       "32538     Male             0             0              10   United-States   \n",
       "32540   Female             0             0              32   United-States   \n",
       "32541     Male             0             0              25   United-States   \n",
       "\n",
       "       Income  \n",
       "26       >50K  \n",
       "60      <=50K  \n",
       "68      <=50K  \n",
       "76      <=50K  \n",
       "105     <=50K  \n",
       "...       ...  \n",
       "32529    >50K  \n",
       "32530   <=50K  \n",
       "32538    >50K  \n",
       "32540   <=50K  \n",
       "32541   <=50K  \n",
       "\n",
       "[1843 rows x 15 columns]"
      ]
     },
     "execution_count": 95,
     "metadata": {},
     "output_type": "execute_result"
    }
   ],
   "source": [
    "df.loc[df.Occupation == ' ?']"
   ]
  },
  {
   "cell_type": "markdown",
   "id": "c08eb4d0",
   "metadata": {},
   "source": [
    "From the above observation we see that, Native counrty has 583 and ocupation has 1843 rows having ?. We will drop this rows as we have large number of data"
   ]
  },
  {
   "cell_type": "code",
   "execution_count": 96,
   "id": "72ee9c11",
   "metadata": {},
   "outputs": [],
   "source": [
    "df.drop(df[df['Native_country'] == ' ?'].index, inplace=True)"
   ]
  },
  {
   "cell_type": "code",
   "execution_count": 97,
   "id": "8abb436e",
   "metadata": {},
   "outputs": [],
   "source": [
    "df.drop(df[df['Occupation'] == ' ?'].index, inplace=True)"
   ]
  },
  {
   "cell_type": "code",
   "execution_count": 98,
   "id": "f2caebdb",
   "metadata": {},
   "outputs": [
    {
     "name": "stdout",
     "output_type": "stream",
     "text": [
      "Age :- \n",
      " [50 38 53 28 37 49 52 31 42 30 23 32 34 25 43 40 54 35 59 56 19 39 20 45\n",
      " 22 48 21 24 57 44 41 29 47 46 36 79 27 18 33 76 55 61 70 64 71 66 51 58\n",
      " 26 17 60 90 75 65 77 62 63 67 74 72 69 68 73 81 78 88 80 84 83 85 82 86] \n",
      "\n",
      "\n",
      "Workclass :- \n",
      " [' Self-emp-not-inc' ' Private' ' State-gov' ' Federal-gov' ' Local-gov'\n",
      " ' Self-emp-inc' ' Without-pay'] \n",
      "\n",
      "\n",
      "Fnlwgt :- \n",
      " [ 83311 215646 234721 ...  84661 257302 201490] \n",
      "\n",
      "\n",
      "Education :- \n",
      " [' Bachelors' ' HS-grad' ' 11th' ' Masters' ' 9th' ' Some-college'\n",
      " ' Assoc-acdm' ' 7th-8th' ' Doctorate' ' Assoc-voc' ' Prof-school'\n",
      " ' 5th-6th' ' 10th' ' Preschool' ' 12th' ' 1st-4th'] \n",
      "\n",
      "\n",
      "Education_num :- \n",
      " [13  9  7 14  5 10 12  4 16 11 15  3  6  1  8  2] \n",
      "\n",
      "\n",
      "Marital_status :- \n",
      " [' Married-civ-spouse' ' Divorced' ' Married-spouse-absent'\n",
      " ' Never-married' ' Separated' ' Married-AF-spouse' ' Widowed'] \n",
      "\n",
      "\n",
      "Occupation :- \n",
      " [' Exec-managerial' ' Handlers-cleaners' ' Prof-specialty'\n",
      " ' Other-service' ' Adm-clerical' ' Sales' ' Transport-moving'\n",
      " ' Farming-fishing' ' Machine-op-inspct' ' Tech-support' ' Craft-repair'\n",
      " ' Protective-serv' ' Armed-Forces' ' Priv-house-serv'] \n",
      "\n",
      "\n",
      "Relationship :- \n",
      " [' Husband' ' Not-in-family' ' Wife' ' Own-child' ' Unmarried'\n",
      " ' Other-relative'] \n",
      "\n",
      "\n",
      "Race :- \n",
      " [' White' ' Black' ' Asian-Pac-Islander' ' Amer-Indian-Eskimo' ' Other'] \n",
      "\n",
      "\n",
      "Sex :- \n",
      " [' Male' ' Female'] \n",
      "\n",
      "\n",
      "Capital_gain :- \n",
      " [    0 14084  5178  5013  2407 14344 15024  7688  4064  4386  7298  1409\n",
      "  3674  1055  2050  2176  2174   594 20051  6849  4101  8614  3411  2597\n",
      " 25236  4650  2463  3103 10605  2964  3325  2580  3471  4865 99999  6514\n",
      "  1471  2329  2105  2885 10520  2202  2961 27828  6767  2228  1506 13550\n",
      "  2635  5556  4787  3781  3137  3818   914   401  2829  2977  4934  2062\n",
      "  2354  3464  5455 15020  1424  3273 22040  4416 10566  4931  7430 34095\n",
      "  6497  3908   114  2346  2907  1151  9386  2414  2290  3418 15831 41310\n",
      "  4508  2538  3456  1848  3887  7896  5721  9562  6418  1455  2036  3942\n",
      "  1831 11678  2936  2993  7443  6360  4687  1797  6723  2009  3432  6097\n",
      "  1639  2653 18481 25124  7978   991  1173  2387  5060  1086] \n",
      "\n",
      "\n",
      "Capital_loss :- \n",
      " [   0 2042 1408 1902 1887 1719 1762 1564 2179 1816 1980 1977 1876 1340\n",
      " 2206 1741 1485 2339 2415 1380 1721 2051 2377 1669 2352 1672  653 2392\n",
      " 1504 1590 1651 1628 1848 2001 1740 2002 1579 2258 1602 2547 2205 1726\n",
      " 2444 1138 2238  625  213 1539  880 1668 1092 1594 2231 1844  810 2824\n",
      " 2559 2057 1573 1974  974 2174 2149 1735 1258 2603 2282  323 2246 1617\n",
      " 1648 1825 3770 1755 3683 2129 4356 2267 2080 2457  419  155 3900 2201\n",
      " 1944 2467 2754 2472 3004 1411] \n",
      "\n",
      "\n",
      "Hours_per_week :- \n",
      " [13 40 16 45 50 80 30 35 60 20 52 44 15 25 43 38 55 48 58 32 70 22 56 41\n",
      " 28 36 24 46  2 42 12 65  1 34 75 98 33 54 10  6 64 19 18 72  8  9 47 37\n",
      " 21 26 14  5  7 99 53 39 62 59 57 78 90 66 11 49 84 17 68  3 27 85 31 51\n",
      " 77 63 23  4 87 88 73 89 97 94 29 96 67 82 86 91 81 76 92 61 74 95] \n",
      "\n",
      "\n",
      "Native_country :- \n",
      " [' United-States' ' Cuba' ' Jamaica' ' India' ' Mexico' ' Puerto-Rico'\n",
      " ' Honduras' ' England' ' Canada' ' Germany' ' Iran' ' Philippines'\n",
      " ' Poland' ' Columbia' ' Cambodia' ' Thailand' ' Ecuador' ' Laos'\n",
      " ' Taiwan' ' Haiti' ' Portugal' ' Dominican-Republic' ' El-Salvador'\n",
      " ' France' ' Guatemala' ' Italy' ' China' ' South' ' Japan' ' Yugoslavia'\n",
      " ' Peru' ' Outlying-US(Guam-USVI-etc)' ' Scotland' ' Trinadad&Tobago'\n",
      " ' Greece' ' Nicaragua' ' Vietnam' ' Hong' ' Ireland' ' Hungary'\n",
      " ' Holand-Netherlands'] \n",
      "\n",
      "\n",
      "Income :- \n",
      " [' <=50K' ' >50K'] \n",
      "\n",
      "\n"
     ]
    }
   ],
   "source": [
    "for column in df:\n",
    "    print(column,':- \\n',  df[column].unique(), '\\n\\n')"
   ]
  },
  {
   "cell_type": "markdown",
   "id": "0fc36029",
   "metadata": {},
   "source": [
    "Now we can see there is no ? present in the dataset"
   ]
  },
  {
   "cell_type": "markdown",
   "id": "f7a887a5",
   "metadata": {},
   "source": [
    "Now we will Visualize the data"
   ]
  },
  {
   "cell_type": "markdown",
   "id": "5e7e8a04",
   "metadata": {},
   "source": [
    "Checking count of income"
   ]
  },
  {
   "cell_type": "code",
   "execution_count": 99,
   "id": "b05ad554",
   "metadata": {},
   "outputs": [
    {
     "data": {
      "text/plain": [
       "<AxesSubplot:>"
      ]
     },
     "execution_count": 99,
     "metadata": {},
     "output_type": "execute_result"
    },
    {
     "data": {
      "image/png": "[encoded data removed]",
      "text/plain": [
       "<Figure size 432x288 with 1 Axes>"
      ]
     },
     "metadata": {
      "needs_background": "light"
     },
     "output_type": "display_data"
    }
   ],
   "source": [
    "df['Income'].value_counts().plot(kind='bar')"
   ]
  },
  {
   "cell_type": "code",
   "execution_count": 100,
   "id": "ba1010f7",
   "metadata": {},
   "outputs": [
    {
     "data": {
      "text/plain": [
       "(array([ 0,  1,  2,  3,  4,  5,  6,  7,  8,  9, 10, 11, 12, 13]),\n",
       " [Text(0, 0, ' Exec-managerial'),\n",
       "  Text(1, 0, ' Handlers-cleaners'),\n",
       "  Text(2, 0, ' Prof-specialty'),\n",
       "  Text(3, 0, ' Other-service'),\n",
       "  Text(4, 0, ' Adm-clerical'),\n",
       "  Text(5, 0, ' Sales'),\n",
       "  Text(6, 0, ' Transport-moving'),\n",
       "  Text(7, 0, ' Farming-fishing'),\n",
       "  Text(8, 0, ' Machine-op-inspct'),\n",
       "  Text(9, 0, ' Tech-support'),\n",
       "  Text(10, 0, ' Craft-repair'),\n",
       "  Text(11, 0, ' Protective-serv'),\n",
       "  Text(12, 0, ' Armed-Forces'),\n",
       "  Text(13, 0, ' Priv-house-serv')])"
      ]
     },
     "execution_count": 100,
     "metadata": {},
     "output_type": "execute_result"
    },
    {
     "data": {
      "image/png": "[encoded data removed]",
      "text/plain": [
       "<Figure size 1080x720 with 1 Axes>"
      ]
     },
     "metadata": {
      "needs_background": "light"
     },
     "output_type": "display_data"
    }
   ],
   "source": [
    "# Checking occupation vs capital gain for both the gender\n",
    "plt.figure(figsize=(15,10))\n",
    "sns.barplot(x = 'Occupation', y = 'Capital_gain', data=df, hue='Sex', color='b' )\n",
    "plt.xticks(rotation=75)"
   ]
  },
  {
   "cell_type": "markdown",
   "id": "dad94305",
   "metadata": {},
   "source": [
    "for craft-repair, protective-serv, priv-house-serv Female ruling the industry with high capital gain, for rest male having more capital gain than female"
   ]
  },
  {
   "cell_type": "code",
   "execution_count": 101,
   "id": "dddea451",
   "metadata": {},
   "outputs": [
    {
     "data": {
      "text/plain": [
       "(array([ 0,  1,  2,  3,  4,  5,  6,  7,  8,  9, 10, 11, 12, 13, 14, 15]),\n",
       " [Text(0, 0, ' Bachelors'),\n",
       "  Text(1, 0, ' HS-grad'),\n",
       "  Text(2, 0, ' 11th'),\n",
       "  Text(3, 0, ' Masters'),\n",
       "  Text(4, 0, ' 9th'),\n",
       "  Text(5, 0, ' Some-college'),\n",
       "  Text(6, 0, ' Assoc-acdm'),\n",
       "  Text(7, 0, ' 7th-8th'),\n",
       "  Text(8, 0, ' Doctorate'),\n",
       "  Text(9, 0, ' Assoc-voc'),\n",
       "  Text(10, 0, ' Prof-school'),\n",
       "  Text(11, 0, ' 5th-6th'),\n",
       "  Text(12, 0, ' 10th'),\n",
       "  Text(13, 0, ' Preschool'),\n",
       "  Text(14, 0, ' 12th'),\n",
       "  Text(15, 0, ' 1st-4th')])"
      ]
     },
     "execution_count": 101,
     "metadata": {},
     "output_type": "execute_result"
    },
    {
     "data": {
      "image/png": "[encoded data removed]",
      "text/plain": [
       "<Figure size 1080x720 with 1 Axes>"
      ]
     },
     "metadata": {
      "needs_background": "light"
     },
     "output_type": "display_data"
    }
   ],
   "source": [
    "# Checking Education vs hours per week gain for both the gender\n",
    "plt.figure(figsize=(15,10))\n",
    "sns.barplot(x = 'Education', y = 'Hours_per_week', data=df, hue='Sex', color='b' )\n",
    "plt.xticks(rotation=75)"
   ]
  },
  {
   "cell_type": "markdown",
   "id": "650b5ac5",
   "metadata": {},
   "source": [
    "High working hour for educations are Doctorate and prof-school where male and female contributing equally"
   ]
  },
  {
   "cell_type": "code",
   "execution_count": 102,
   "id": "17cd0a52",
   "metadata": {},
   "outputs": [
    {
     "data": {
      "text/plain": [
       "(array([ 0,  1,  2,  3,  4,  5,  6,  7,  8,  9, 10, 11, 12, 13]),\n",
       " [Text(0, 0, ' Exec-managerial'),\n",
       "  Text(1, 0, ' Handlers-cleaners'),\n",
       "  Text(2, 0, ' Prof-specialty'),\n",
       "  Text(3, 0, ' Other-service'),\n",
       "  Text(4, 0, ' Adm-clerical'),\n",
       "  Text(5, 0, ' Sales'),\n",
       "  Text(6, 0, ' Transport-moving'),\n",
       "  Text(7, 0, ' Farming-fishing'),\n",
       "  Text(8, 0, ' Machine-op-inspct'),\n",
       "  Text(9, 0, ' Tech-support'),\n",
       "  Text(10, 0, ' Craft-repair'),\n",
       "  Text(11, 0, ' Protective-serv'),\n",
       "  Text(12, 0, ' Armed-Forces'),\n",
       "  Text(13, 0, ' Priv-house-serv')])"
      ]
     },
     "execution_count": 102,
     "metadata": {},
     "output_type": "execute_result"
    },
    {
     "data": {
      "image/png": "[encoded data removed]",
      "text/plain": [
       "<Figure size 1080x720 with 1 Axes>"
      ]
     },
     "metadata": {
      "needs_background": "light"
     },
     "output_type": "display_data"
    }
   ],
   "source": [
    "# Checking Occupation vs hours per week gain for both the gender\n",
    "plt.figure(figsize=(15,10))\n",
    "sns.barplot(x = 'Occupation', y = 'Hours_per_week', data=df, hue='Sex', color='b' )\n",
    "plt.xticks(rotation=75)"
   ]
  },
  {
   "cell_type": "markdown",
   "id": "2ef76cc9",
   "metadata": {},
   "source": [
    "Transport moving, armed forces are the more working hours occupation than others "
   ]
  },
  {
   "cell_type": "markdown",
   "id": "0f7fb2c0",
   "metadata": {},
   "source": [
    "# Encoding"
   ]
  },
  {
   "cell_type": "code",
   "execution_count": 103,
   "id": "dbffc858",
   "metadata": {},
   "outputs": [
    {
     "name": "stdout",
     "output_type": "stream",
     "text": [
      "Workclass\n",
      "Education\n",
      "Marital_status\n",
      "Occupation\n",
      "Relationship\n",
      "Race\n",
      "Sex\n",
      "Native_country\n",
      "Income\n"
     ]
    }
   ],
   "source": [
    "for col in df.columns:\n",
    "    if df[col].dtype == object:\n",
    "        print(col)"
   ]
  },
  {
   "cell_type": "code",
   "execution_count": 104,
   "id": "797ea9fb",
   "metadata": {},
   "outputs": [],
   "source": [
    "le = LabelEncoder()"
   ]
  },
  {
   "cell_type": "code",
   "execution_count": 105,
   "id": "3b2eaa25",
   "metadata": {},
   "outputs": [
    {
     "data": {
      "text/plain": [
       "array([4, 2, 2, ..., 2, 2, 3])"
      ]
     },
     "execution_count": 105,
     "metadata": {},
     "output_type": "execute_result"
    }
   ],
   "source": [
    "Workclass_encoding = le.fit_transform(df['Workclass'])\n",
    "Workclass_encoding"
   ]
  },
  {
   "cell_type": "code",
   "execution_count": 106,
   "id": "88025011",
   "metadata": {},
   "outputs": [
    {
     "data": {
      "text/plain": [
       "array([ 9, 11,  1, ..., 11, 11, 11])"
      ]
     },
     "execution_count": 106,
     "metadata": {},
     "output_type": "execute_result"
    }
   ],
   "source": [
    "Education_encoding = le.fit_transform(df['Education'])\n",
    "Education_encoding "
   ]
  },
  {
   "cell_type": "code",
   "execution_count": 107,
   "id": "82f2dc0a",
   "metadata": {},
   "outputs": [
    {
     "data": {
      "text/plain": [
       "array([2, 0, 2, ..., 6, 4, 2])"
      ]
     },
     "execution_count": 107,
     "metadata": {},
     "output_type": "execute_result"
    }
   ],
   "source": [
    "Marital_status_encoding = le.fit_transform(df['Marital_status'])\n",
    "Marital_status_encoding "
   ]
  },
  {
   "cell_type": "code",
   "execution_count": 108,
   "id": "e5796736",
   "metadata": {},
   "outputs": [
    {
     "data": {
      "text/plain": [
       "array([3, 5, 5, ..., 0, 0, 3])"
      ]
     },
     "execution_count": 108,
     "metadata": {},
     "output_type": "execute_result"
    }
   ],
   "source": [
    "Occupation_encoding = le.fit_transform(df['Occupation'])\n",
    "Occupation_encoding"
   ]
  },
  {
   "cell_type": "code",
   "execution_count": 109,
   "id": "0c817fa4",
   "metadata": {},
   "outputs": [
    {
     "data": {
      "text/plain": [
       "array([0, 1, 0, ..., 4, 3, 5])"
      ]
     },
     "execution_count": 109,
     "metadata": {},
     "output_type": "execute_result"
    }
   ],
   "source": [
    "Relationship_encoding = le.fit_transform(df['Relationship'])\n",
    "Relationship_encoding"
   ]
  },
  {
   "cell_type": "code",
   "execution_count": 110,
   "id": "6a1ace3c",
   "metadata": {},
   "outputs": [
    {
     "data": {
      "text/plain": [
       "array([4, 4, 2, ..., 4, 4, 4])"
      ]
     },
     "execution_count": 110,
     "metadata": {},
     "output_type": "execute_result"
    }
   ],
   "source": [
    "Race_encoding = le.fit_transform(df['Race'])\n",
    "Race_encoding"
   ]
  },
  {
   "cell_type": "code",
   "execution_count": 111,
   "id": "5b8762f6",
   "metadata": {},
   "outputs": [
    {
     "data": {
      "text/plain": [
       "array([1, 1, 1, ..., 0, 1, 0])"
      ]
     },
     "execution_count": 111,
     "metadata": {},
     "output_type": "execute_result"
    }
   ],
   "source": [
    "Sex_encoding = le.fit_transform(df['Sex'])\n",
    "Sex_encoding"
   ]
  },
  {
   "cell_type": "code",
   "execution_count": 112,
   "id": "fae430f3",
   "metadata": {},
   "outputs": [
    {
     "data": {
      "text/plain": [
       "array([38, 38, 38, ..., 38, 38, 38])"
      ]
     },
     "execution_count": 112,
     "metadata": {},
     "output_type": "execute_result"
    }
   ],
   "source": [
    "Native_country_encoding = le.fit_transform(df['Native_country'])\n",
    "Native_country_encoding"
   ]
  },
  {
   "cell_type": "code",
   "execution_count": 113,
   "id": "3f639126",
   "metadata": {},
   "outputs": [
    {
     "data": {
      "text/plain": [
       "array([0, 0, 0, ..., 0, 0, 1])"
      ]
     },
     "execution_count": 113,
     "metadata": {},
     "output_type": "execute_result"
    }
   ],
   "source": [
    "Income_encoding = le.fit_transform(df['Income'])\n",
    "Income_encoding"
   ]
  },
  {
   "cell_type": "code",
   "execution_count": 114,
   "id": "b83aec76",
   "metadata": {},
   "outputs": [],
   "source": [
    "df['Workclass'] = Workclass_encoding\n",
    "df['Education'] = Education_encoding\n",
    "df['Marital_status'] = Marital_status_encoding\n",
    "df['Occupation'] = Occupation_encoding\n",
    "df['Relationship'] = Relationship_encoding\n",
    "df['Race'] = Race_encoding\n",
    "df['Sex'] = Sex_encoding\n",
    "df['Native_country'] = Native_country_encoding\n",
    "df['Income'] =Income_encoding"
   ]
  },
  {
   "cell_type": "code",
   "execution_count": 115,
   "id": "dbde06c8",
   "metadata": {},
   "outputs": [
    {
     "data": {
      "text/html": [
       "<div>\n",
       "<style scoped>\n",
       "    .dataframe tbody tr th:only-of-type {\n",
       "        vertical-align: middle;\n",
       "    }\n",
       "\n",
       "    .dataframe tbody tr th {\n",
       "        vertical-align: top;\n",
       "    }\n",
       "\n",
       "    .dataframe thead th {\n",
       "        text-align: right;\n",
       "    }\n",
       "</style>\n",
       "<table border=\"1\" class=\"dataframe\">\n",
       "  <thead>\n",
       "    <tr style=\"text-align: right;\">\n",
       "      <th></th>\n",
       "      <th>Age</th>\n",
       "      <th>Workclass</th>\n",
       "      <th>Fnlwgt</th>\n",
       "      <th>Education</th>\n",
       "      <th>Education_num</th>\n",
       "      <th>Marital_status</th>\n",
       "      <th>Occupation</th>\n",
       "      <th>Relationship</th>\n",
       "      <th>Race</th>\n",
       "      <th>Sex</th>\n",
       "      <th>Capital_gain</th>\n",
       "      <th>Capital_loss</th>\n",
       "      <th>Hours_per_week</th>\n",
       "      <th>Native_country</th>\n",
       "      <th>Income</th>\n",
       "    </tr>\n",
       "  </thead>\n",
       "  <tbody>\n",
       "    <tr>\n",
       "      <th>0</th>\n",
       "      <td>50</td>\n",
       "      <td>4</td>\n",
       "      <td>83311</td>\n",
       "      <td>9</td>\n",
       "      <td>13</td>\n",
       "      <td>2</td>\n",
       "      <td>3</td>\n",
       "      <td>0</td>\n",
       "      <td>4</td>\n",
       "      <td>1</td>\n",
       "      <td>0</td>\n",
       "      <td>0</td>\n",
       "      <td>13</td>\n",
       "      <td>38</td>\n",
       "      <td>0</td>\n",
       "    </tr>\n",
       "    <tr>\n",
       "      <th>1</th>\n",
       "      <td>38</td>\n",
       "      <td>2</td>\n",
       "      <td>215646</td>\n",
       "      <td>11</td>\n",
       "      <td>9</td>\n",
       "      <td>0</td>\n",
       "      <td>5</td>\n",
       "      <td>1</td>\n",
       "      <td>4</td>\n",
       "      <td>1</td>\n",
       "      <td>0</td>\n",
       "      <td>0</td>\n",
       "      <td>40</td>\n",
       "      <td>38</td>\n",
       "      <td>0</td>\n",
       "    </tr>\n",
       "    <tr>\n",
       "      <th>2</th>\n",
       "      <td>53</td>\n",
       "      <td>2</td>\n",
       "      <td>234721</td>\n",
       "      <td>1</td>\n",
       "      <td>7</td>\n",
       "      <td>2</td>\n",
       "      <td>5</td>\n",
       "      <td>0</td>\n",
       "      <td>2</td>\n",
       "      <td>1</td>\n",
       "      <td>0</td>\n",
       "      <td>0</td>\n",
       "      <td>40</td>\n",
       "      <td>38</td>\n",
       "      <td>0</td>\n",
       "    </tr>\n",
       "    <tr>\n",
       "      <th>3</th>\n",
       "      <td>28</td>\n",
       "      <td>2</td>\n",
       "      <td>338409</td>\n",
       "      <td>9</td>\n",
       "      <td>13</td>\n",
       "      <td>2</td>\n",
       "      <td>9</td>\n",
       "      <td>5</td>\n",
       "      <td>2</td>\n",
       "      <td>0</td>\n",
       "      <td>0</td>\n",
       "      <td>0</td>\n",
       "      <td>40</td>\n",
       "      <td>4</td>\n",
       "      <td>0</td>\n",
       "    </tr>\n",
       "    <tr>\n",
       "      <th>4</th>\n",
       "      <td>37</td>\n",
       "      <td>2</td>\n",
       "      <td>284582</td>\n",
       "      <td>12</td>\n",
       "      <td>14</td>\n",
       "      <td>2</td>\n",
       "      <td>3</td>\n",
       "      <td>5</td>\n",
       "      <td>4</td>\n",
       "      <td>0</td>\n",
       "      <td>0</td>\n",
       "      <td>0</td>\n",
       "      <td>40</td>\n",
       "      <td>38</td>\n",
       "      <td>0</td>\n",
       "    </tr>\n",
       "  </tbody>\n",
       "</table>\n",
       "</div>"
      ],
      "text/plain": [
       "   Age  Workclass  Fnlwgt  Education  Education_num  Marital_status  \\\n",
       "0   50          4   83311          9             13               2   \n",
       "1   38          2  215646         11              9               0   \n",
       "2   53          2  234721          1              7               2   \n",
       "3   28          2  338409          9             13               2   \n",
       "4   37          2  284582         12             14               2   \n",
       "\n",
       "   Occupation  Relationship  Race  Sex  Capital_gain  Capital_loss  \\\n",
       "0           3             0     4    1             0             0   \n",
       "1           5             1     4    1             0             0   \n",
       "2           5             0     2    1             0             0   \n",
       "3           9             5     2    0             0             0   \n",
       "4           3             5     4    0             0             0   \n",
       "\n",
       "   Hours_per_week  Native_country  Income  \n",
       "0              13              38       0  \n",
       "1              40              38       0  \n",
       "2              40              38       0  \n",
       "3              40               4       0  \n",
       "4              40              38       0  "
      ]
     },
     "execution_count": 115,
     "metadata": {},
     "output_type": "execute_result"
    }
   ],
   "source": [
    "df.head()"
   ]
  },
  {
   "cell_type": "code",
   "execution_count": 116,
   "id": "a612c4be",
   "metadata": {},
   "outputs": [
    {
     "data": {
      "text/plain": [
       "(30161, 15)"
      ]
     },
     "execution_count": 116,
     "metadata": {},
     "output_type": "execute_result"
    }
   ],
   "source": [
    "df.shape"
   ]
  },
  {
   "cell_type": "code",
   "execution_count": 117,
   "id": "737aafa4",
   "metadata": {},
   "outputs": [
    {
     "name": "stdout",
     "output_type": "stream",
     "text": [
      "<class 'pandas.core.frame.DataFrame'>\n",
      "Int64Index: 30161 entries, 0 to 32559\n",
      "Data columns (total 15 columns):\n",
      " #   Column          Non-Null Count  Dtype\n",
      "---  ------          --------------  -----\n",
      " 0   Age             30161 non-null  int64\n",
      " 1   Workclass       30161 non-null  int32\n",
      " 2   Fnlwgt          30161 non-null  int64\n",
      " 3   Education       30161 non-null  int32\n",
      " 4   Education_num   30161 non-null  int64\n",
      " 5   Marital_status  30161 non-null  int32\n",
      " 6   Occupation      30161 non-null  int32\n",
      " 7   Relationship    30161 non-null  int32\n",
      " 8   Race            30161 non-null  int32\n",
      " 9   Sex             30161 non-null  int32\n",
      " 10  Capital_gain    30161 non-null  int64\n",
      " 11  Capital_loss    30161 non-null  int64\n",
      " 12  Hours_per_week  30161 non-null  int64\n",
      " 13  Native_country  30161 non-null  int32\n",
      " 14  Income          30161 non-null  int32\n",
      "dtypes: int32(9), int64(6)\n",
      "memory usage: 3.7 MB\n"
     ]
    }
   ],
   "source": [
    "df.info()"
   ]
  },
  {
   "cell_type": "code",
   "execution_count": 118,
   "id": "b9a86fef",
   "metadata": {},
   "outputs": [
    {
     "data": {
      "image/png": "[encoded data removed]",
      "text/plain": [
       "<Figure size 1440x1080 with 15 Axes>"
      ]
     },
     "metadata": {
      "needs_background": "light"
     },
     "output_type": "display_data"
    }
   ],
   "source": [
    "plt.figure(figsize=(20,15))\n",
    "plotnumber = 1\n",
    "\n",
    "for column in df:\n",
    "    if plotnumber <= 15:\n",
    "        ax=plt.subplot(4,4,plotnumber)\n",
    "        sns.distplot(df[column])\n",
    "        plt.xlabel(column, fontsize=20)\n",
    "        plotnumber += 1\n",
    "plt.tight_layout()"
   ]
  },
  {
   "cell_type": "markdown",
   "id": "a4ddd29b",
   "metadata": {},
   "source": [
    "Some of the interger columns data is not normally distributed, We will use power transformation with standard scaler = True"
   ]
  },
  {
   "cell_type": "code",
   "execution_count": 119,
   "id": "c646cd22",
   "metadata": {},
   "outputs": [],
   "source": [
    "#from sklearn.preprocessing import PowerTransformer, power_transform"
   ]
  },
  {
   "cell_type": "code",
   "execution_count": 120,
   "id": "10183847",
   "metadata": {},
   "outputs": [],
   "source": [
    "#df_new = power_transform(df)"
   ]
  },
  {
   "cell_type": "code",
   "execution_count": 121,
   "id": "39c810a1",
   "metadata": {},
   "outputs": [],
   "source": [
    "#df = pd.DataFrame(df_new, columns=df.columns)"
   ]
  },
  {
   "cell_type": "code",
   "execution_count": 122,
   "id": "0c59e859",
   "metadata": {},
   "outputs": [],
   "source": [
    "#df"
   ]
  },
  {
   "cell_type": "code",
   "execution_count": 123,
   "id": "7a35bb05",
   "metadata": {},
   "outputs": [
    {
     "data": {
      "text/plain": [
       "<AxesSubplot:>"
      ]
     },
     "execution_count": 123,
     "metadata": {},
     "output_type": "execute_result"
    },
    {
     "data": {
      "image/png": "[encoded data removed]",
      "text/plain": [
       "<Figure size 1080x504 with 2 Axes>"
      ]
     },
     "metadata": {
      "needs_background": "light"
     },
     "output_type": "display_data"
    }
   ],
   "source": [
    "plt.figure(figsize=(15,7))\n",
    "\n",
    "sns.heatmap(df.corr(), annot=True, linewidth=0.5, linecolor='black', fmt='0.2f')"
   ]
  },
  {
   "cell_type": "code",
   "execution_count": 124,
   "id": "1f01bf99",
   "metadata": {},
   "outputs": [
    {
     "data": {
      "text/plain": [
       "Age               0.242000\n",
       "Workclass         0.018103\n",
       "Fnlwgt           -0.008978\n",
       "Education         0.078981\n",
       "Education_num     0.335317\n",
       "Marital_status   -0.193504\n",
       "Occupation        0.051551\n",
       "Relationship     -0.251009\n",
       "Race              0.071666\n",
       "Sex               0.216715\n",
       "Capital_gain      0.221200\n",
       "Capital_loss      0.150050\n",
       "Hours_per_week    0.229480\n",
       "Native_country    0.023273\n",
       "Income            1.000000\n",
       "Name: Income, dtype: float64"
      ]
     },
     "execution_count": 124,
     "metadata": {},
     "output_type": "execute_result"
    }
   ],
   "source": [
    "df.corr()['Income']"
   ]
  },
  {
   "cell_type": "markdown",
   "id": "401c6a21",
   "metadata": {},
   "source": [
    "We observed, Workclass has very negligible relation with our target variable income, lets check with VIF"
   ]
  },
  {
   "cell_type": "markdown",
   "id": "8e2284fc",
   "metadata": {},
   "source": [
    "Variance Indlation Factor"
   ]
  },
  {
   "cell_type": "code",
   "execution_count": 125,
   "id": "5327cf80",
   "metadata": {},
   "outputs": [],
   "source": [
    "from statsmodels.stats.outliers_influence import variance_inflation_factor\n",
    "vif = variance_inflation_factor"
   ]
  },
  {
   "cell_type": "code",
   "execution_count": 126,
   "id": "611bec85",
   "metadata": {},
   "outputs": [],
   "source": [
    "v = df.drop('Income',axis=1)"
   ]
  },
  {
   "cell_type": "code",
   "execution_count": 127,
   "id": "6a5f721e",
   "metadata": {},
   "outputs": [],
   "source": [
    "vif_data=pd.DataFrame()\n",
    "vif_data['Feature']=v.columns"
   ]
  },
  {
   "cell_type": "code",
   "execution_count": 128,
   "id": "9b50132f",
   "metadata": {},
   "outputs": [
    {
     "name": "stdout",
     "output_type": "stream",
     "text": [
      "           Feature        VIF\n",
      "0              Age   9.420858\n",
      "1        Workclass   6.250465\n",
      "2           Fnlwgt   4.031440\n",
      "3        Education   9.420696\n",
      "4    Education_num  19.078857\n",
      "5   Marital_status   4.016788\n",
      "6       Occupation   3.204963\n",
      "7     Relationship   2.620331\n",
      "8             Race  18.446525\n",
      "9              Sex   4.591498\n",
      "10    Capital_gain   1.045863\n",
      "11    Capital_loss   1.063007\n",
      "12  Hours_per_week  13.022566\n",
      "13  Native_country  28.474831\n"
     ]
    }
   ],
   "source": [
    "vif_data['VIF']=[variance_inflation_factor(v.values,i)\n",
    "                    for i in range(len(v.columns))]\n",
    "    \n",
    "print(vif_data)"
   ]
  },
  {
   "cell_type": "markdown",
   "id": "e7f8eb73",
   "metadata": {},
   "source": [
    "all columns are equally co-related with income so we will not drop worksclass column"
   ]
  },
  {
   "cell_type": "markdown",
   "id": "b4a5a30b",
   "metadata": {},
   "source": [
    "# Model Building"
   ]
  },
  {
   "cell_type": "code",
   "execution_count": 129,
   "id": "867decc0",
   "metadata": {},
   "outputs": [],
   "source": [
    "x = df.drop(columns=['Income'], axis=1)\n",
    "y = df['Income']"
   ]
  },
  {
   "cell_type": "markdown",
   "id": "e1f9ec47",
   "metadata": {},
   "source": [
    "# Logistic Regression"
   ]
  },
  {
   "cell_type": "code",
   "execution_count": 130,
   "id": "502f3cd9",
   "metadata": {},
   "outputs": [
    {
     "name": "stdout",
     "output_type": "stream",
     "text": [
      "Testing Max Accuracy 0.802280864606816 Max Random State 23\n"
     ]
    }
   ],
   "source": [
    "lr=LogisticRegression()\n",
    "maxAcc = 0\n",
    "maxRS = 0\n",
    "\n",
    "for i in range(1,150):\n",
    "    x_train,x_test,y_train,y_test = train_test_split(x,y,train_size=0.75, random_state=i)\n",
    "    lr.fit(x_train,y_train)\n",
    "    y_pred_test = lr.predict(x_test)\n",
    "    y_pred_train = lr.predict(x_train)\n",
    "    acc=accuracy_score(y_test, y_pred_test)\n",
    "    #print('accuracy', acc, 'random state',i)\n",
    "    \n",
    "    \n",
    "    if acc>maxAcc:\n",
    "        maxAcc = acc\n",
    "        maxRS = i\n",
    "    \n",
    "print('Testing Max Accuracy', maxAcc, 'Max Random State', maxRS)\n",
    "    \n"
   ]
  },
  {
   "cell_type": "markdown",
   "id": "1e1aa1ee",
   "metadata": {},
   "source": [
    "# Random Forest Classifier"
   ]
  },
  {
   "cell_type": "code",
   "execution_count": 131,
   "id": "e841fea4",
   "metadata": {},
   "outputs": [
    {
     "name": "stdout",
     "output_type": "stream",
     "text": [
      "Testing Max Accuracy 0.8607611722583212 Max Random State 132\n"
     ]
    }
   ],
   "source": [
    "rf=RandomForestClassifier()\n",
    "maxAcc = 0\n",
    "maxRS = 0\n",
    "\n",
    "for i in range(1,150):\n",
    "    x_train,x_test,y_train,y_test = train_test_split(x,y,train_size=0.75, random_state=i)\n",
    "    rf.fit(x_train,y_train)\n",
    "    y_pred_test = rf.predict(x_test)\n",
    "    y_pred_train = rf.predict(x_train)\n",
    "    acc=accuracy_score(y_test, y_pred_test)\n",
    "    #print('accuracy', acc, 'random state',i)\n",
    "    \n",
    "    \n",
    "    if acc>maxAcc:\n",
    "        maxAcc = acc\n",
    "        maxRS = i\n",
    "    \n",
    "print('Testing Max Accuracy', maxAcc, 'Max Random State', maxRS)\n",
    "    \n"
   ]
  },
  {
   "cell_type": "markdown",
   "id": "96bff980",
   "metadata": {},
   "source": [
    "# Decision Tree"
   ]
  },
  {
   "cell_type": "code",
   "execution_count": 132,
   "id": "cbd08224",
   "metadata": {},
   "outputs": [
    {
     "name": "stdout",
     "output_type": "stream",
     "text": [
      "Testing Max Accuracy 0.8140830128630155 Max Random State 7\n"
     ]
    }
   ],
   "source": [
    "dt=DecisionTreeClassifier()\n",
    "maxAcc = 0\n",
    "maxRS = 0\n",
    "\n",
    "for i in range(1,150):\n",
    "    x_train,x_test,y_train,y_test = train_test_split(x,y,train_size=0.75, random_state=i)\n",
    "    dt.fit(x_train,y_train)\n",
    "    y_pred_test = dt.predict(x_test)\n",
    "    y_pred_train = dt.predict(x_train)\n",
    "    acc=accuracy_score(y_test, y_pred_test)\n",
    "    #print('accuracy', acc, 'random state',i)\n",
    "    \n",
    "    \n",
    "    if acc>maxAcc:\n",
    "        maxAcc = acc\n",
    "        maxRS = i\n",
    "    \n",
    "print('Testing Max Accuracy', maxAcc, 'Max Random State', maxRS)\n",
    "    \n"
   ]
  },
  {
   "cell_type": "markdown",
   "id": "a2ad4b47",
   "metadata": {},
   "source": [
    "# K Neighbors Classifier"
   ]
  },
  {
   "cell_type": "code",
   "execution_count": 133,
   "id": "393c02ba",
   "metadata": {},
   "outputs": [
    {
     "name": "stdout",
     "output_type": "stream",
     "text": [
      "Testing Max Accuracy 0.778013526057552 Max Random State 116\n"
     ]
    }
   ],
   "source": [
    "knn = KNeighborsClassifier()\n",
    "maxAcc = 0\n",
    "maxRS = 0\n",
    "\n",
    "for i in range(1,150):\n",
    "    x_train,x_test,y_train,y_test = train_test_split(x,y,train_size=0.75, random_state=i)\n",
    "    knn.fit(x_train,y_train)\n",
    "    y_pred_test = knn.predict(x_test)\n",
    "    y_pred_train = knn.predict(x_train)\n",
    "    acc=accuracy_score(y_test, y_pred_test)\n",
    "    #print('accuracy', acc, 'random state',i)\n",
    "    \n",
    "    \n",
    "    if acc>maxAcc:\n",
    "        maxAcc = acc\n",
    "        maxRS = i\n",
    "    \n",
    "print('Testing Max Accuracy', maxAcc, 'Max Random State', maxRS)\n",
    "    \n"
   ]
  },
  {
   "cell_type": "markdown",
   "id": "7d94d1f4",
   "metadata": {},
   "source": [
    "We observed maximum score for Random Forest Classifier and Decision Tree Classifier, Will hypertune both model"
   ]
  },
  {
   "cell_type": "markdown",
   "id": "3e803d5a",
   "metadata": {},
   "source": [
    "Random Forest"
   ]
  },
  {
   "cell_type": "code",
   "execution_count": 134,
   "id": "3ed513b9",
   "metadata": {},
   "outputs": [],
   "source": [
    "gcv = GridSearchCV"
   ]
  },
  {
   "cell_type": "code",
   "execution_count": 135,
   "id": "baee270a",
   "metadata": {},
   "outputs": [],
   "source": [
    "params = {\n",
    "    'max_features': ['auto','sqrt','log2'],\n",
    "         'max_depth':[4,5,6,7,8],\n",
    "         'criterion':['gini','entropy'],\n",
    "         \"n_estimators\":[10,50,120,350]\n",
    "         }"
   ]
  },
  {
   "cell_type": "code",
   "execution_count": 136,
   "id": "32aa8396",
   "metadata": {},
   "outputs": [
    {
     "data": {
      "text/plain": [
       "{'criterion': 'gini',\n",
       " 'max_depth': 8,\n",
       " 'max_features': 'log2',\n",
       " 'n_estimators': 120}"
      ]
     },
     "execution_count": 136,
     "metadata": {},
     "output_type": "execute_result"
    }
   ],
   "source": [
    "hypt = gcv(rf, params, cv=7, scoring='accuracy')\n",
    "\n",
    "hypt.fit(x_train,y_train)\n",
    "\n",
    "hypt.best_params_"
   ]
  },
  {
   "cell_type": "code",
   "execution_count": 137,
   "id": "8061040d",
   "metadata": {},
   "outputs": [],
   "source": [
    "rf = RandomForestClassifier(n_estimators=10, max_depth=8, max_features= 'log2', criterion='gini')"
   ]
  },
  {
   "cell_type": "code",
   "execution_count": 138,
   "id": "c5126595",
   "metadata": {},
   "outputs": [
    {
     "name": "stdout",
     "output_type": "stream",
     "text": [
      "Max Accuracy 0.8583268869488341 Max Random State 22\n"
     ]
    }
   ],
   "source": [
    "maxAcc = 0\n",
    "maxRS = 0\n",
    "\n",
    "for i in range(1,50):\n",
    "    x_train,x_test,y_train,y_test = train_test_split(x,y,train_size=0.70, random_state=i)\n",
    "    rf.fit(x_train,y_train)\n",
    "    y_pred_test = rf.predict(x_test)\n",
    "    y_pred_train = rf.predict(x_train)\n",
    "    acc=accuracy_score(y_test, y_pred_test)\n",
    "    #print('accuracy', acc, 'random state',i)\n",
    "    \n",
    "    \n",
    "    if acc>maxAcc:\n",
    "        maxAcc = acc\n",
    "        maxRS = i\n",
    "print('Max Accuracy', maxAcc, 'Max Random State', maxRS)"
   ]
  },
  {
   "cell_type": "markdown",
   "id": "a0a2ee06",
   "metadata": {},
   "source": [
    "# Score Report of the Model"
   ]
  },
  {
   "cell_type": "code",
   "execution_count": 139,
   "id": "d5424141",
   "metadata": {},
   "outputs": [
    {
     "name": "stdout",
     "output_type": "stream",
     "text": [
      "              precision    recall  f1-score   support\n",
      "\n",
      "           0       0.86      0.95      0.91      6833\n",
      "           1       0.78      0.54      0.64      2216\n",
      "\n",
      "    accuracy                           0.85      9049\n",
      "   macro avg       0.82      0.75      0.77      9049\n",
      "weighted avg       0.84      0.85      0.84      9049\n",
      "\n"
     ]
    }
   ],
   "source": [
    "#Testing Report\n",
    "print(classification_report(y_test , y_pred_test))"
   ]
  },
  {
   "cell_type": "code",
   "execution_count": 140,
   "id": "51f4c408",
   "metadata": {},
   "outputs": [
    {
     "name": "stdout",
     "output_type": "stream",
     "text": [
      "              precision    recall  f1-score   support\n",
      "\n",
      "           0       0.87      0.96      0.91     15820\n",
      "           1       0.82      0.56      0.66      5292\n",
      "\n",
      "    accuracy                           0.86     21112\n",
      "   macro avg       0.84      0.76      0.79     21112\n",
      "weighted avg       0.85      0.86      0.85     21112\n",
      "\n"
     ]
    }
   ],
   "source": [
    "#Training Report\n",
    "print(classification_report(y_train , y_pred_train))"
   ]
  },
  {
   "cell_type": "markdown",
   "id": "12762923",
   "metadata": {},
   "source": [
    "# Confusion Matrix"
   ]
  },
  {
   "cell_type": "code",
   "execution_count": 141,
   "id": "a7f209e5",
   "metadata": {},
   "outputs": [
    {
     "data": {
      "text/plain": [
       "<AxesSubplot:>"
      ]
     },
     "execution_count": 141,
     "metadata": {},
     "output_type": "execute_result"
    },
    {
     "data": {
      "image/png": "[encoded data removed]",
      "text/plain": [
       "<Figure size 432x288 with 2 Axes>"
      ]
     },
     "metadata": {
      "needs_background": "light"
     },
     "output_type": "display_data"
    }
   ],
   "source": [
    "#train\n",
    "cmtrain = confusion_matrix(y_train, y_pred_train)\n",
    "sns.heatmap(cmtrain, annot = True, linewidth=0.5)"
   ]
  },
  {
   "cell_type": "code",
   "execution_count": 142,
   "id": "dc579be1",
   "metadata": {},
   "outputs": [
    {
     "data": {
      "text/plain": [
       "<AxesSubplot:>"
      ]
     },
     "execution_count": 142,
     "metadata": {},
     "output_type": "execute_result"
    },
    {
     "data": {
      "image/png": "[encoded data removed]",
      "text/plain": [
       "<Figure size 432x288 with 2 Axes>"
      ]
     },
     "metadata": {
      "needs_background": "light"
     },
     "output_type": "display_data"
    }
   ],
   "source": [
    "#test\n",
    "cmtest = confusion_matrix(y_test, y_pred_test)\n",
    "sns.heatmap(cmtest, annot = True, linewidth=0.5)"
   ]
  },
  {
   "cell_type": "markdown",
   "id": "972806d5",
   "metadata": {},
   "source": [
    "Decision Tree"
   ]
  },
  {
   "cell_type": "code",
   "execution_count": 143,
   "id": "64ec62fd",
   "metadata": {},
   "outputs": [],
   "source": [
    "params = {\n",
    "    'max_features': ['auto','sqrt','log2'],\n",
    "         'max_depth':[4,5,6,7,8],\n",
    "         'criterion':['gini','entropy'],\n",
    "         \"min_samples_leaf\":[1,2]\n",
    "         }"
   ]
  },
  {
   "cell_type": "code",
   "execution_count": 144,
   "id": "84422ed0",
   "metadata": {},
   "outputs": [
    {
     "data": {
      "text/plain": [
       "{'criterion': 'entropy',\n",
       " 'max_depth': 8,\n",
       " 'max_features': 'auto',\n",
       " 'min_samples_leaf': 2}"
      ]
     },
     "execution_count": 144,
     "metadata": {},
     "output_type": "execute_result"
    }
   ],
   "source": [
    "hypt = gcv(dt, params, cv=7, scoring='accuracy')\n",
    "\n",
    "hypt.fit(x_train,y_train)\n",
    "\n",
    "hypt.best_params_"
   ]
  },
  {
   "cell_type": "code",
   "execution_count": 145,
   "id": "018f6cb1",
   "metadata": {},
   "outputs": [],
   "source": [
    "dt = DecisionTreeClassifier(min_samples_leaf=2, max_depth=8, max_features= 'sqrt', criterion='entropy')"
   ]
  },
  {
   "cell_type": "code",
   "execution_count": 146,
   "id": "4de72b8e",
   "metadata": {},
   "outputs": [
    {
     "name": "stdout",
     "output_type": "stream",
     "text": [
      "Max Accuracy 0.8490440932699745 Max Random State 41\n"
     ]
    }
   ],
   "source": [
    "maxAcc = 0\n",
    "maxRS = 0\n",
    "\n",
    "for i in range(1,50):\n",
    "    x_train,x_test,y_train,y_test = train_test_split(x,y,train_size=0.70, random_state=i)\n",
    "    dt.fit(x_train,y_train)\n",
    "    y_pred_test = dt.predict(x_test)\n",
    "    y_pred_train = dt.predict(x_train)\n",
    "    acc=accuracy_score(y_test, y_pred_test)\n",
    "    #print('accuracy', acc, 'random state',i)\n",
    "    \n",
    "    \n",
    "    if acc>maxAcc:\n",
    "        maxAcc = acc\n",
    "        maxRS = i\n",
    "print('Max Accuracy', maxAcc, 'Max Random State', maxRS)"
   ]
  },
  {
   "cell_type": "code",
   "execution_count": 147,
   "id": "d4ced04d",
   "metadata": {},
   "outputs": [
    {
     "name": "stdout",
     "output_type": "stream",
     "text": [
      "              precision    recall  f1-score   support\n",
      "\n",
      "           0       0.86      0.94      0.90      6833\n",
      "           1       0.76      0.53      0.63      2216\n",
      "\n",
      "    accuracy                           0.84      9049\n",
      "   macro avg       0.81      0.74      0.76      9049\n",
      "weighted avg       0.84      0.84      0.83      9049\n",
      "\n"
     ]
    }
   ],
   "source": [
    "#Testing Report\n",
    "print(classification_report(y_test , y_pred_test))"
   ]
  },
  {
   "cell_type": "code",
   "execution_count": 148,
   "id": "815ff08b",
   "metadata": {},
   "outputs": [
    {
     "name": "stdout",
     "output_type": "stream",
     "text": [
      "              precision    recall  f1-score   support\n",
      "\n",
      "           0       0.86      0.95      0.90     15820\n",
      "           1       0.79      0.54      0.64      5292\n",
      "\n",
      "    accuracy                           0.85     21112\n",
      "   macro avg       0.83      0.75      0.77     21112\n",
      "weighted avg       0.84      0.85      0.84     21112\n",
      "\n"
     ]
    }
   ],
   "source": [
    "#Training Report\n",
    "print(classification_report(y_train , y_pred_train))"
   ]
  },
  {
   "cell_type": "markdown",
   "id": "d79ab24d",
   "metadata": {},
   "source": [
    "# Confusion Matrix"
   ]
  },
  {
   "cell_type": "code",
   "execution_count": 149,
   "id": "f2b63034",
   "metadata": {},
   "outputs": [
    {
     "data": {
      "text/plain": [
       "<AxesSubplot:>"
      ]
     },
     "execution_count": 149,
     "metadata": {},
     "output_type": "execute_result"
    },
    {
     "data": {
      "image/png": "[encoded data removed]",
      "text/plain": [
       "<Figure size 432x288 with 2 Axes>"
      ]
     },
     "metadata": {
      "needs_background": "light"
     },
     "output_type": "display_data"
    }
   ],
   "source": [
    "#train\n",
    "cmtrain = confusion_matrix(y_train, y_pred_train)\n",
    "sns.heatmap(cmtrain, annot = True, linewidth=0.5)"
   ]
  },
  {
   "cell_type": "code",
   "execution_count": 150,
   "id": "8940781e",
   "metadata": {},
   "outputs": [
    {
     "data": {
      "text/plain": [
       "<AxesSubplot:>"
      ]
     },
     "execution_count": 150,
     "metadata": {},
     "output_type": "execute_result"
    },
    {
     "data": {
      "image/png": "[encoded data removed]",
      "text/plain": [
       "<Figure size 432x288 with 2 Axes>"
      ]
     },
     "metadata": {
      "needs_background": "light"
     },
     "output_type": "display_data"
    }
   ],
   "source": [
    "#test\n",
    "cmtest = confusion_matrix(y_test, y_pred_test)\n",
    "sns.heatmap(cmtest, annot = True, linewidth=0.5)"
   ]
  },
  {
   "cell_type": "markdown",
   "id": "9351c9fb",
   "metadata": {},
   "source": [
    "# AUC ROC curve"
   ]
  },
  {
   "cell_type": "code",
   "execution_count": 151,
   "id": "96d2b710",
   "metadata": {},
   "outputs": [],
   "source": [
    "from sklearn.metrics import plot_roc_curve, auc\n",
    "from sklearn.metrics import plot_roc_curve"
   ]
  },
  {
   "cell_type": "code",
   "execution_count": 152,
   "id": "7abf04ae",
   "metadata": {},
   "outputs": [
    {
     "data": {
      "text/plain": [
       "<matplotlib.legend.Legend at 0x2af979bd280>"
      ]
     },
     "execution_count": 152,
     "metadata": {},
     "output_type": "execute_result"
    },
    {
     "data": {
      "image/png": "[encoded data removed]",
      "text/plain": [
       "<Figure size 432x288 with 1 Axes>"
      ]
     },
     "metadata": {
      "needs_background": "light"
     },
     "output_type": "display_data"
    }
   ],
   "source": [
    "disp = plot_roc_curve(rf,x_test,y_test)\n",
    "plot_roc_curve(lr,x_test,y_test,ax=disp.ax_)  # here ax_ for axis with confustion matrics\n",
    "plot_roc_curve(knn,x_test,y_test,ax=disp.ax_)\n",
    "plot_roc_curve(dt,x_test,y_test,ax=disp.ax_)\n",
    "\n",
    "\n",
    "plt.legend(prop = {'size':11}, loc ='lower right')"
   ]
  },
  {
   "cell_type": "markdown",
   "id": "924992b9",
   "metadata": {},
   "source": [
    "From the above ROC AUC curve, We got more AUC ofr Decision Tree Classifier but accuracy is more for Random FOrest Classifier, SO we will save both the model and accordingly for any future sue, we will use both and check the score. accordingly we will train the model"
   ]
  },
  {
   "cell_type": "markdown",
   "id": "fed43fc2",
   "metadata": {},
   "source": [
    "# Saving Model"
   ]
  },
  {
   "cell_type": "code",
   "execution_count": 153,
   "id": "7d85d241",
   "metadata": {},
   "outputs": [],
   "source": [
    "import pickle"
   ]
  },
  {
   "cell_type": "code",
   "execution_count": 154,
   "id": "89e18003",
   "metadata": {},
   "outputs": [],
   "source": [
    "pickle.dump('rf', open('Randomforest_model_for_income_prediction', 'wb'))"
   ]
  },
  {
   "cell_type": "code",
   "execution_count": 155,
   "id": "b3e8d417",
   "metadata": {},
   "outputs": [],
   "source": [
    "pickle.dump('dt', open('DecisionTreeClassifier_model_for_income_prediction', 'wb'))"
   ]
  },
  {
   "cell_type": "code",
   "execution_count": null,
   "id": "77ba3fe2",
   "metadata": {},
   "outputs": [],
   "source": []
  }
 ],
 "metadata": {
  "kernelspec": {
   "display_name": "Python 3 (ipykernel)",
   "language": "python",
   "name": "python3"
  },
  "language_info": {
   "codemirror_mode": {
    "name": "ipython",
    "version": 3
   },
   "file_extension": ".py",
   "mimetype": "text/x-python",
   "name": "python",
   "nbconvert_exporter": "python",
   "pygments_lexer": "ipython3",
   "version": "3.9.7"
  },
  "latex_envs": {
   "LaTeX_envs_menu_present": true,
   "autoclose": false,
   "autocomplete": true,
   "bibliofile": "biblio.bib",
   "cite_by": "apalike",
   "current_citInitial": 1,
   "eqLabelWithNumbers": true,
   "eqNumInitial": 1,
   "hotkeys": {
    "equation": "Ctrl-E",
    "itemize": "Ctrl-I"
   },
   "labels_anchors": false,
   "latex_user_defs": false,
   "report_style_numbering": false,
   "user_envs_cfg": false
  }
 },
 "nbformat": 4,
 "nbformat_minor": 5
}
